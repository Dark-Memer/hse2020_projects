{
 "cells": [
  {
   "cell_type": "markdown",
   "metadata": {},
   "source": [
    "# Plan\n",
    "\n",
    "Задача: бинарная сегментация\n",
    "\n",
    "На вход двумерное одноканальное (grayscale) изображение, на выходе бинарная маска."
   ]
  },
  {
   "cell_type": "markdown",
   "metadata": {},
   "source": [
    "# 1. Prettify data loader"
   ]
  },
  {
   "cell_type": "code",
   "execution_count": 1,
   "metadata": {},
   "outputs": [],
   "source": [
    "from torch.utils.data import Dataset, DataLoader\n",
    "import numpy as np\n",
    "from pathlib import Path\n",
    "import pandas as pd"
   ]
  },
  {
   "cell_type": "code",
   "execution_count": 2,
   "metadata": {},
   "outputs": [],
   "source": [
    "class BraTSDataset(Dataset):\n",
    "    def __init__(self, source_folder: [str, Path], transform=None):\n",
    "        if isinstance(source_folder, str):\n",
    "            source_folder = Path(source_folder)\n",
    "            \n",
    "        self.images = sorted(list(source_folder.glob('*')))\n",
    "        self.transform = transform\n",
    "\n",
    "    def __len__(self):\n",
    "        return len(self.images)\n",
    "\n",
    "    def __getitem__(self, i):\n",
    "        \n",
    "        file_name = self.images[i].stem.split('_')[-1]\n",
    "        slices = list(self.images[i].glob('*'))\n",
    "        slices = [s.stem for s in slices if 'mask' not in s.stem]\n",
    "        np.random.shuffle(slices)\n",
    "        j = slices[0]\n",
    "        \n",
    "        image = np.load(self.images[i] / f'{j}.npy', allow_pickle=True)\n",
    "        mask = np.load(self.images[i] / f'{j}_mask.npy', allow_pickle=True)\n",
    "        sample = image, mask\n",
    "        \n",
    "        if self.transform:\n",
    "            sample = self.transform(sample)\n",
    "\n",
    "        return sample"
   ]
  },
  {
   "cell_type": "code",
   "execution_count": 3,
   "metadata": {},
   "outputs": [],
   "source": [
    "data_folder = Path('/home/anvar/work/data/brats_slices/')\n",
    "data = BraTSDataset(data_folder)"
   ]
  },
  {
   "cell_type": "code",
   "execution_count": 4,
   "metadata": {},
   "outputs": [
    {
     "name": "stdout",
     "output_type": "stream",
     "text": [
      "1.38 ms ± 55.3 µs per loop (mean ± std. dev. of 7 runs, 1000 loops each)\n"
     ]
    }
   ],
   "source": [
    "%%timeit\n",
    "\n",
    "data[100]"
   ]
  },
  {
   "cell_type": "code",
   "execution_count": 5,
   "metadata": {},
   "outputs": [],
   "source": [
    "import os\n",
    "from tqdm.notebook import tqdm"
   ]
  },
  {
   "cell_type": "markdown",
   "metadata": {},
   "source": [
    "## Create a csv file with important metadata"
   ]
  },
  {
   "cell_type": "code",
   "execution_count": 6,
   "metadata": {},
   "outputs": [
    {
     "data": {
      "application/vnd.jupyter.widget-view+json": {
       "model_id": "70fe1239a32d4298b8bfbfccf4dfd89a",
       "version_major": 2,
       "version_minor": 0
      },
      "text/plain": [
       "HBox(children=(HTML(value=''), FloatProgress(value=1.0, bar_style='info', layout=Layout(width='20px'), max=1.0…"
      ]
     },
     "metadata": {},
     "output_type": "display_data"
    },
    {
     "name": "stdout",
     "output_type": "stream",
     "text": [
      "\n",
      "False    26422\n",
      "True     24422\n",
      "Name: is_nonzero_mask, dtype: int64\n"
     ]
    }
   ],
   "source": [
    "data_folder = Path('/home/anvar/work/data/brats_slices/')\n",
    "df = []\n",
    "\n",
    "for path, _, files in tqdm(os.walk(data_folder)):\n",
    "    for file in files:\n",
    "        \n",
    "        subject_id = path.split('/')[-1].split('_')[-1]\n",
    "        slice_id = file.split('.')[0].split('_')[0]\n",
    "        sample_id = f\"{subject_id}_{slice_id}\" # SubjectID_SliceIndex\n",
    "        is_mask = 'mask' in file\n",
    "        if is_mask:\n",
    "            mask = np.load(Path(path) / file, allow_pickle=True)\n",
    "            is_nonzero_mask =  np.any(mask)\n",
    "        else:\n",
    "            is_nonzero_mask = np.nan\n",
    "        \n",
    "        df.append([Path(Path(path).stem) / file, sample_id, is_mask, subject_id, is_nonzero_mask])\n",
    "        \n",
    "df = pd.DataFrame(df, columns = ['relative_path', 'sample_id', 'is_mask', 'subject_id', 'is_nonzero_mask'])\n",
    "print(df.is_nonzero_mask.value_counts())\n",
    "\n",
    "df.to_csv(data_folder / 'meta.csv')"
   ]
  },
  {
   "cell_type": "markdown",
   "metadata": {},
   "source": [
    "> Важное преимущество такого метода в том что вы убираете из класса описывающего ваш датасет\n",
    "низкоуровневую работу со структурой ваших папок на диске, у вас просто есть таблица, в которой для каждого\n",
    "файла указан путь к нему, и набор его id полей (например номер слайса и номер пациента, но могут быть и другие поля)."
   ]
  },
  {
   "cell_type": "code",
   "execution_count": 7,
   "metadata": {},
   "outputs": [
    {
     "data": {
      "text/html": [
       "<div>\n",
       "<style scoped>\n",
       "    .dataframe tbody tr th:only-of-type {\n",
       "        vertical-align: middle;\n",
       "    }\n",
       "\n",
       "    .dataframe tbody tr th {\n",
       "        vertical-align: top;\n",
       "    }\n",
       "\n",
       "    .dataframe thead th {\n",
       "        text-align: right;\n",
       "    }\n",
       "</style>\n",
       "<table border=\"1\" class=\"dataframe\">\n",
       "  <thead>\n",
       "    <tr style=\"text-align: right;\">\n",
       "      <th></th>\n",
       "      <th>relative_path</th>\n",
       "      <th>sample_id</th>\n",
       "      <th>is_mask</th>\n",
       "      <th>subject_id</th>\n",
       "      <th>is_nonzero_mask</th>\n",
       "    </tr>\n",
       "  </thead>\n",
       "  <tbody>\n",
       "    <tr>\n",
       "      <th>0</th>\n",
       "      <td>brats_slices/meta.csv</td>\n",
       "      <td>slices_meta</td>\n",
       "      <td>False</td>\n",
       "      <td>slices</td>\n",
       "      <td>NaN</td>\n",
       "    </tr>\n",
       "    <tr>\n",
       "      <th>1</th>\n",
       "      <td>BraTS20_Training_274/25.npy</td>\n",
       "      <td>274_25</td>\n",
       "      <td>False</td>\n",
       "      <td>274</td>\n",
       "      <td>NaN</td>\n",
       "    </tr>\n",
       "    <tr>\n",
       "      <th>2</th>\n",
       "      <td>BraTS20_Training_274/71_mask.npy</td>\n",
       "      <td>274_71</td>\n",
       "      <td>True</td>\n",
       "      <td>274</td>\n",
       "      <td>True</td>\n",
       "    </tr>\n",
       "    <tr>\n",
       "      <th>3</th>\n",
       "      <td>BraTS20_Training_274/35_mask.npy</td>\n",
       "      <td>274_35</td>\n",
       "      <td>True</td>\n",
       "      <td>274</td>\n",
       "      <td>False</td>\n",
       "    </tr>\n",
       "    <tr>\n",
       "      <th>4</th>\n",
       "      <td>BraTS20_Training_274/46.npy</td>\n",
       "      <td>274_46</td>\n",
       "      <td>False</td>\n",
       "      <td>274</td>\n",
       "      <td>NaN</td>\n",
       "    </tr>\n",
       "  </tbody>\n",
       "</table>\n",
       "</div>"
      ],
      "text/plain": [
       "                      relative_path    sample_id  is_mask subject_id  \\\n",
       "0             brats_slices/meta.csv  slices_meta    False     slices   \n",
       "1       BraTS20_Training_274/25.npy       274_25    False        274   \n",
       "2  BraTS20_Training_274/71_mask.npy       274_71     True        274   \n",
       "3  BraTS20_Training_274/35_mask.npy       274_35     True        274   \n",
       "4       BraTS20_Training_274/46.npy       274_46    False        274   \n",
       "\n",
       "  is_nonzero_mask  \n",
       "0             NaN  \n",
       "1             NaN  \n",
       "2            True  \n",
       "3           False  \n",
       "4             NaN  "
      ]
     },
     "execution_count": 7,
     "metadata": {},
     "output_type": "execute_result"
    }
   ],
   "source": [
    "df.head()"
   ]
  },
  {
   "cell_type": "markdown",
   "metadata": {},
   "source": [
    "## Edit BratSDataset class"
   ]
  },
  {
   "cell_type": "code",
   "execution_count": 8,
   "metadata": {},
   "outputs": [],
   "source": [
    "class BraTSDataset(Dataset):\n",
    "    def __init__(self, meta: pd.DataFrame, source_folder: [str, Path], transform=None):\n",
    "        if isinstance(source_folder, str):\n",
    "            source_folder = Path(source_folder)\n",
    "            \n",
    "        self.source_folder = source_folder\n",
    "        self.meta_images = meta.query('is_mask == False').sort_values(by='sample_id').reset_index(drop=True)\n",
    "        self.meta_masks = meta.query('is_mask == True').sort_values(by='sample_id').reset_index(drop=True)\n",
    "        self.transform = transform\n",
    "\n",
    "    def __len__(self):\n",
    "        return self.meta_images.shape[0]\n",
    "\n",
    "    def __getitem__(self, i):\n",
    "        image = np.load(self.source_folder / self.meta_images.iloc[i]['relative_path'], allow_pickle=True)\n",
    "        mask = np.load(self.source_folder / self.meta_masks.iloc[i]['relative_path'], allow_pickle=True)\n",
    "        sample = image, mask\n",
    "        \n",
    "        if self.transform:\n",
    "            sample = self.transform(sample)\n",
    "\n",
    "        return sample"
   ]
  },
  {
   "cell_type": "code",
   "execution_count": 9,
   "metadata": {},
   "outputs": [],
   "source": [
    "data_folder = Path('/home/anvar/work/data/brats_slices/')\n",
    "data = BraTSDataset(df, data_folder)"
   ]
  },
  {
   "cell_type": "code",
   "execution_count": 10,
   "metadata": {},
   "outputs": [
    {
     "data": {
      "text/plain": [
       "50845"
      ]
     },
     "execution_count": 10,
     "metadata": {},
     "output_type": "execute_result"
    }
   ],
   "source": [
    "len(data)"
   ]
  },
  {
   "cell_type": "code",
   "execution_count": 11,
   "metadata": {},
   "outputs": [
    {
     "name": "stdout",
     "output_type": "stream",
     "text": [
      "828 µs ± 32.1 µs per loop (mean ± std. dev. of 7 runs, 1000 loops each)\n"
     ]
    }
   ],
   "source": [
    "%%timeit\n",
    "\n",
    "data[20000]"
   ]
  },
  {
   "cell_type": "markdown",
   "metadata": {},
   "source": [
    "# 2. Define Unet architecture\n",
    "\n",
    "https://arxiv.org/abs/1505.04597\n",
    "\n",
    "![title](https://lmb.informatik.uni-freiburg.de/people/ronneber/u-net/u-net-architecture.png)\n",
    "\n",
    "\n",
    "с одним изменением, вместо кропов будем интерполировать (чтобы в результате на выходе получить маску того же размера что и вход)"
   ]
  },
  {
   "cell_type": "code",
   "execution_count": null,
   "metadata": {},
   "outputs": [],
   "source": []
  },
  {
   "cell_type": "code",
   "execution_count": null,
   "metadata": {},
   "outputs": [],
   "source": []
  }
 ],
 "metadata": {
  "kernelspec": {
   "display_name": "Python 3",
   "language": "python",
   "name": "python3"
  },
  "language_info": {
   "codemirror_mode": {
    "name": "ipython",
    "version": 3
   },
   "file_extension": ".py",
   "mimetype": "text/x-python",
   "name": "python",
   "nbconvert_exporter": "python",
   "pygments_lexer": "ipython3",
   "version": "3.8.5"
  }
 },
 "nbformat": 4,
 "nbformat_minor": 4
}
