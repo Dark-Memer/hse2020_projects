{
 "cells": [
  {
   "cell_type": "markdown",
   "metadata": {},
   "source": [
    "# Plan\n",
    "\n",
    "Задача: Бинарная классификация срезов (есть опухоль/нет опухоли)\n",
    "\n",
    "0. Load sample data\n",
    "1. Setup VGG-like architecture\n",
    "2. Simple DataLoader\n",
    "3. Patch sampling & data augmentation\n",
    "4. Batch training\n",
    "5. Tensorboard"
   ]
  },
  {
   "cell_type": "markdown",
   "metadata": {},
   "source": [
    "# 0. Resave data in different format\n",
    "\n",
    "Folder structure:\n",
    " - subject_1\n",
    "     - 1.npy\n",
    "     - 1_mask.npy\n",
    "     - 2.npy\n",
    "     - 2_mask.npy\n",
    "     - ...\n",
    "     - [n_slices_subject1].npy\n",
    "     - [n_slices_subject1]_mask.npy\n",
    " - subject_2\n",
    "     - ...\n",
    " - ...\n",
    " - subject_n"
   ]
  },
  {
   "cell_type": "code",
   "execution_count": 1,
   "metadata": {},
   "outputs": [],
   "source": [
    "from pathlib import Path"
   ]
  },
  {
   "cell_type": "code",
   "execution_count": 2,
   "metadata": {},
   "outputs": [],
   "source": [
    "# import numpy as np\n",
    "# from tqdm import tqdm\n",
    "\n",
    "# data_folder = Path('/home/anvar/work/data/MICCAI_BraTS2020_TrainingData/')\n",
    "# target_folder = Path('/home/anvar/work/data/brats_slices/')\n",
    "\n",
    "# for subdir in tqdm(data_folder.glob('*')):\n",
    "#     file = subdir.stem\n",
    "#     img = nibabel.load(subdir / f'{file}_flair.nii.gz').get_fdata()\n",
    "#     mask = nibabel.load(subdir / f'{file}_seg.nii.gz').get_fdata()\n",
    "#     nonzero = np.nonzero(np.sum(img, (0, 1)))[0]\n",
    "#     subfolder = target_folder / file\n",
    "#     subfolder.mkdir()\n",
    "    \n",
    "#     for i in nonzero:        \n",
    "#         np.save(subfolder / f'{i}.npy', img[..., i].astype(np.float32), )\n",
    "#         np.save(subfolder / f'{i}_mask.npy', mask[..., i].astype(bool), )"
   ]
  },
  {
   "cell_type": "code",
   "execution_count": null,
   "metadata": {},
   "outputs": [],
   "source": []
  },
  {
   "cell_type": "markdown",
   "metadata": {},
   "source": [
    "# 1. Setup VGG-like architecture\n",
    "\n",
    "More examples https://github.com/bentrevett/pytorch-image-classification/"
   ]
  },
  {
   "cell_type": "markdown",
   "metadata": {},
   "source": [
    "![title](https://camo.githubusercontent.com/fed0475719a58ed51683e32c5fc4157051d1ba44/68747470733a2f2f6769746875622e636f6d2f62656e747265766574742f7079746f7263682d696d6167652d636c617373696669636174696f6e2f626c6f622f6d61737465722f6173736574732f7667672e706e673f7261773d31)"
   ]
  },
  {
   "cell_type": "code",
   "execution_count": 3,
   "metadata": {},
   "outputs": [],
   "source": [
    "import torch\n",
    "import torch.nn as nn\n",
    "from torch.nn import Sequential"
   ]
  },
  {
   "cell_type": "markdown",
   "metadata": {},
   "source": [
    "`nn.Module` https://pytorch.org/docs/stable/generated/torch.nn.Module.html это базовый класс для определения архитектуры нейронной сети. От него следует наследовать любой класс определяющий нейронную сеть."
   ]
  },
  {
   "cell_type": "code",
   "execution_count": 4,
   "metadata": {},
   "outputs": [],
   "source": [
    "class VGGNet(nn.Module):\n",
    "    def __init__(self):\n",
    "        super().__init__() # super(VGGNet, self).__init__()\n",
    "        pass\n",
    "    \n",
    "    def forward(self, x):\n",
    "        return x\n",
    "\n",
    "net = VGGNet()"
   ]
  },
  {
   "cell_type": "markdown",
   "metadata": {},
   "source": [
    "`nn.Sequential` https://pytorch.org/docs/stable/generated/torch.nn.Sequential.html это аналог `sklearn.pipeline.Pipeline` это функция, которая последовательно исполняет все функции переданные ей на вход:\n",
    "\n",
    "```\n",
    "g = Sequential(a, b, c)\n",
    "g(x) эквивалентно c(b(a(x)))\n",
    "```"
   ]
  },
  {
   "cell_type": "code",
   "execution_count": 5,
   "metadata": {},
   "outputs": [],
   "source": [
    "def conv3x3(in_channels, out_channels, stride=1):\n",
    "    return [\n",
    "        nn.Conv2d(in_channels, out_channels, kernel_size=(3, 3), stride=stride, padding=(1, 1)),\n",
    "        nn.BatchNorm2d(out_channels, eps=1e-05, momentum=0.1, affine=True, track_running_stats=True),\n",
    "        nn.ReLU(inplace=True)\n",
    "    ]\n",
    "\n",
    "class VGGNet(nn.Module):\n",
    "    def __init__(self):\n",
    "        super().__init__()\n",
    "\n",
    "        self.features = Sequential(\n",
    "            *conv3x3(1, 32),\n",
    "            nn.MaxPool2d(kernel_size=2, stride=2, padding=0, dilation=1, ceil_mode=False),\n",
    "            *conv3x3(32, 32),\n",
    "            nn.MaxPool2d(kernel_size=2, stride=2, padding=0, dilation=1, ceil_mode=False),\n",
    "            *conv3x3(32, 32),\n",
    "            *conv3x3(32, 32),\n",
    "            nn.MaxPool2d(kernel_size=2, stride=2, padding=0, dilation=1, ceil_mode=False),\n",
    "            *conv3x3(32, 64),\n",
    "            *conv3x3(64, 64),\n",
    "            nn.MaxPool2d(kernel_size=2, stride=2, padding=0, dilation=1, ceil_mode=False),\n",
    "        )\n",
    "        \n",
    "        self.avgpool = nn.AdaptiveAvgPool2d(5)\n",
    "        self.classifier = nn.Sequential(\n",
    "            nn.Linear(64 * 5 * 5, 256),\n",
    "            nn.ReLU(inplace = True),\n",
    "            nn.Dropout(0.3),\n",
    "            nn.Linear(256, 128),\n",
    "            nn.ReLU(inplace = True),\n",
    "            nn.Dropout(0.3),\n",
    "            nn.Linear(128, 1),\n",
    "        )\n",
    "        \n",
    "    def forward(self, x):\n",
    "        x = self.features(x)\n",
    "        x = self.avgpool(x)\n",
    "        h = x.view(x.shape[0], -1)\n",
    "        x = self.classifier(h)\n",
    "        return x\n",
    "\n",
    "net = VGGNet()"
   ]
  },
  {
   "cell_type": "code",
   "execution_count": 6,
   "metadata": {},
   "outputs": [
    {
     "name": "stdout",
     "output_type": "stream",
     "text": [
      "[1, 2, 3, 4, 5, 6]\n",
      "[[1, 2, 3], 4, 5, 6]\n"
     ]
    }
   ],
   "source": [
    "# Распаковка аргументов\n",
    "\n",
    "a = [1, 2, 3]\n",
    "b = [*a, 4, 5, 6]\n",
    "c = [a, 4, 5, 6]\n",
    "\n",
    "print(b)\n",
    "print(c)"
   ]
  },
  {
   "cell_type": "code",
   "execution_count": 7,
   "metadata": {},
   "outputs": [],
   "source": [
    "rand_tensor = torch.rand((1, 1, 120, 120))\n",
    "\n",
    "# Кол-во наблюдений x Кол-во каналов x Кол-во пикселей X x Кол-во пикселей Y"
   ]
  },
  {
   "cell_type": "code",
   "execution_count": 8,
   "metadata": {},
   "outputs": [
    {
     "data": {
      "text/plain": [
       "tensor([[-0.4030]], grad_fn=<AddmmBackward>)"
      ]
     },
     "execution_count": 8,
     "metadata": {},
     "output_type": "execute_result"
    }
   ],
   "source": [
    "net.forward(rand_tensor)"
   ]
  },
  {
   "cell_type": "code",
   "execution_count": null,
   "metadata": {},
   "outputs": [],
   "source": []
  },
  {
   "cell_type": "markdown",
   "metadata": {},
   "source": [
    "# 2. DataLoader\n",
    "\n",
    "https://pytorch.org/tutorials/beginner/data_loading_tutorial.html\n",
    "\n",
    "`torch.utils.data.Dataset` базовый класс описывающий набор данных. Для того чтобы написать собственный класс датасета, необходимо отнаследоваться от `torch.utils.data.Dataset` и перегрузить два метода:\n",
    "\n",
    "- `__len__` возвращающий длину всего датасета, используя `len(dataset)`.\n",
    "- `__getitem__` метод для поддержки индексации, т.е. для того чтобы можно было писать `dataset[i]` чтобы получить `i-ое` наблюдение."
   ]
  },
  {
   "cell_type": "code",
   "execution_count": 9,
   "metadata": {},
   "outputs": [],
   "source": [
    "from torch.utils.data import Dataset, DataLoader\n",
    "import numpy as np"
   ]
  },
  {
   "cell_type": "code",
   "execution_count": 10,
   "metadata": {},
   "outputs": [],
   "source": [
    "class BraTSDataset(Dataset):\n",
    "    def __init__(self, source_folder: [str, Path], transform=None):\n",
    "        if isinstance(source_folder, str):\n",
    "            source_folder = Path(source_folder)\n",
    "            \n",
    "        self.images = sorted(list(source_folder.glob('*')))\n",
    "        self.transform = transform\n",
    "\n",
    "    def __len__(self):\n",
    "        return len(self.images)\n",
    "\n",
    "    def __getitem__(self, i):\n",
    "        \n",
    "        file_name = self.images[i].stem.split('_')[-1]\n",
    "        slices = list(self.images[i].glob('*'))\n",
    "        slices = [s.stem for s in slices if 'mask' not in s.stem]\n",
    "        np.random.shuffle(slices)\n",
    "        j = slices[0]\n",
    "        \n",
    "        image = np.load(self.images[i] / f'{j}.npy', allow_pickle=True)\n",
    "        mask = np.load(self.images[i] / f'{j}_mask.npy', allow_pickle=True)\n",
    "        sample = image, mask\n",
    "        \n",
    "        if self.transform:\n",
    "            sample = self.transform(sample)\n",
    "\n",
    "        return sample"
   ]
  },
  {
   "cell_type": "code",
   "execution_count": 11,
   "metadata": {},
   "outputs": [],
   "source": [
    "data_folder = Path('/home/anvar/work/data/brats_slices/')\n",
    "dataset = BraTSDataset(data_folder)"
   ]
  },
  {
   "cell_type": "code",
   "execution_count": 12,
   "metadata": {},
   "outputs": [],
   "source": [
    "img, mask = dataset.__getitem__(2)"
   ]
  },
  {
   "cell_type": "code",
   "execution_count": 13,
   "metadata": {},
   "outputs": [
    {
     "data": {
      "text/plain": [
       "((240, 240), (240, 240))"
      ]
     },
     "execution_count": 13,
     "metadata": {},
     "output_type": "execute_result"
    }
   ],
   "source": [
    "img.shape, mask.shape"
   ]
  },
  {
   "cell_type": "markdown",
   "metadata": {},
   "source": [
    "# 3. Patch sampling & data augmentation"
   ]
  },
  {
   "cell_type": "code",
   "execution_count": 14,
   "metadata": {},
   "outputs": [],
   "source": [
    "from torchvision import transforms\n",
    "import numpy as np\n",
    "from skimage.transform import rotate"
   ]
  },
  {
   "cell_type": "code",
   "execution_count": 15,
   "metadata": {},
   "outputs": [],
   "source": [
    "def random_crop(sample):\n",
    "    \n",
    "    image, mask = sample\n",
    "    delta_h, delta_w = 20, 20\n",
    "    h, w = image.shape\n",
    "    new_h, new_w = 120, 120\n",
    "    top = np.random.randint(0, h - delta_h - new_h)\n",
    "    left = np.random.randint(0, w - delta_w - new_w)\n",
    "\n",
    "    image = image[top: top + new_h,\n",
    "                  left: left + new_w]\n",
    "    \n",
    "    mask = mask[top: top + new_h,\n",
    "                  left: left + new_w]\n",
    "    \n",
    "    return image, mask\n",
    "\n",
    "def random_rotate(sample):\n",
    "    \n",
    "    image, mask = sample\n",
    "    angles = [0, 90, 180, 270]\n",
    "    np.random.shuffle(angles)\n",
    "    angle = angles[0]    \n",
    "    return rotate(image, angle), rotate(mask, angle)\n",
    "    \n",
    "def to_tensor(sample):\n",
    "    image, mask = sample\n",
    "    image = image.reshape(1, image.shape[0], image.shape[1])\n",
    "    return torch.from_numpy(image), np.sum(mask, axis=(0,1)).astype(bool)"
   ]
  },
  {
   "cell_type": "code",
   "execution_count": 16,
   "metadata": {},
   "outputs": [],
   "source": [
    "import matplotlib.pyplot as plt\n",
    "%matplotlib inline"
   ]
  },
  {
   "cell_type": "code",
   "execution_count": 17,
   "metadata": {},
   "outputs": [
    {
     "data": {
      "image/png": "[encoded data removed]",
      "text/plain": [
       "<Figure size 432x288 with 1 Axes>"
      ]
     },
     "metadata": {
      "needs_background": "light"
     },
     "output_type": "display_data"
    }
   ],
   "source": [
    "data_transform = transforms.Compose([\n",
    "                    random_crop,\n",
    "                    random_rotate,\n",
    "                    to_tensor\n",
    "            ])\n",
    "\n",
    "_img, y = data_transform([img, mask])\n",
    "plt.imshow(_img[0])\n",
    "plt.title(y);"
   ]
  },
  {
   "cell_type": "code",
   "execution_count": 18,
   "metadata": {},
   "outputs": [],
   "source": [
    "brats_dataset = BraTSDataset(data_folder, transform=data_transform)"
   ]
  },
  {
   "cell_type": "code",
   "execution_count": 19,
   "metadata": {},
   "outputs": [],
   "source": [
    "dataset_loader = torch.utils.data.DataLoader(brats_dataset,\n",
    "                                             batch_size=40, shuffle=True,\n",
    "                                             num_workers=8)"
   ]
  },
  {
   "cell_type": "code",
   "execution_count": 20,
   "metadata": {},
   "outputs": [],
   "source": [
    "for [imgs, ys] in dataset_loader:\n",
    "    break"
   ]
  },
  {
   "cell_type": "code",
   "execution_count": 21,
   "metadata": {},
   "outputs": [
    {
     "data": {
      "text/plain": [
       "torch.Size([40, 1, 120, 120])"
      ]
     },
     "execution_count": 21,
     "metadata": {},
     "output_type": "execute_result"
    }
   ],
   "source": [
    "imgs.shape"
   ]
  },
  {
   "cell_type": "markdown",
   "metadata": {},
   "source": [
    "\n",
    "# 4. Batch training (training loop)"
   ]
  },
  {
   "cell_type": "code",
   "execution_count": 22,
   "metadata": {},
   "outputs": [],
   "source": [
    "import torch.optim as optim"
   ]
  },
  {
   "cell_type": "code",
   "execution_count": 23,
   "metadata": {},
   "outputs": [],
   "source": [
    "device = (\"cuda\" if torch.cuda.is_available() else 'cpu')\n",
    "model = VGGNet().float()\n",
    "criterion = nn.BCEWithLogitsLoss()\n",
    "optimizer = optim.Adam(model.parameters(), lr=0.01)\n",
    "loader = dataset_loader"
   ]
  },
  {
   "cell_type": "code",
   "execution_count": 24,
   "metadata": {},
   "outputs": [
    {
     "name": "stdout",
     "output_type": "stream",
     "text": [
      "Epoch 000: | Loss: 1.27874\n",
      "Epoch 001: | Loss: 0.68424\n",
      "Epoch 002: | Loss: 0.71221\n",
      "Epoch 003: | Loss: 0.57665\n",
      "Epoch 004: | Loss: 0.57289\n"
     ]
    }
   ],
   "source": [
    "for epoch in range(5):\n",
    "    epoch_loss = 0\n",
    "    for X_batch, y_batch in dataset_loader:\n",
    "        \n",
    "        X_batch, y_batch = X_batch.to(device), y_batch.to(device)\n",
    "        optimizer.zero_grad()\n",
    "        \n",
    "        y_pred = model(X_batch.float())\n",
    "        \n",
    "        loss = criterion(y_pred, y_batch.float().unsqueeze(1))        \n",
    "        loss.backward()\n",
    "        optimizer.step()\n",
    "        \n",
    "        epoch_loss += loss.item()        \n",
    "\n",
    "    print(f'Epoch {epoch+0:03}: | Loss: {epoch_loss/len(dataset_loader):.5f}')"
   ]
  },
  {
   "cell_type": "markdown",
   "metadata": {},
   "source": [
    "# 5. Tensorboard"
   ]
  },
  {
   "cell_type": "code",
   "execution_count": 25,
   "metadata": {},
   "outputs": [],
   "source": [
    "from torch.utils.tensorboard import SummaryWriter"
   ]
  },
  {
   "cell_type": "code",
   "execution_count": 26,
   "metadata": {},
   "outputs": [],
   "source": [
    "device = (\"cuda\" if torch.cuda.is_available() else 'cpu')\n",
    "model = VGGNet().float()\n",
    "criterion = nn.BCEWithLogitsLoss()\n",
    "optimizer = optim.Adam(model.parameters(), lr=0.01)\n",
    "loader = dataset_loader\n",
    "tb = SummaryWriter()"
   ]
  },
  {
   "cell_type": "markdown",
   "metadata": {},
   "source": [
    "Запусти `tensorboard --logdir runs` он запустится на `http://localhost:6006/` (порт может отличаться). После этого запускай обучение."
   ]
  },
  {
   "cell_type": "code",
   "execution_count": 27,
   "metadata": {},
   "outputs": [],
   "source": [
    "for epoch in range(5):\n",
    "    epoch_loss = 0\n",
    "    for X_batch, y_batch in dataset_loader:\n",
    "        \n",
    "        X_batch, y_batch = X_batch.to(device), y_batch.to(device)\n",
    "        optimizer.zero_grad()\n",
    "        \n",
    "        y_pred = model(X_batch.float())\n",
    "        \n",
    "        loss = criterion(y_pred, y_batch.float().unsqueeze(1))        \n",
    "        loss.backward()\n",
    "        optimizer.step()\n",
    "        \n",
    "        epoch_loss += loss.item()        \n",
    "    tb.add_scalar(\"Loss\", epoch_loss/len(dataset_loader), epoch)\n",
    "    \n",
    "tb.close()"
   ]
  },
  {
   "cell_type": "code",
   "execution_count": null,
   "metadata": {},
   "outputs": [],
   "source": []
  },
  {
   "cell_type": "code",
   "execution_count": null,
   "metadata": {},
   "outputs": [],
   "source": []
  },
  {
   "cell_type": "markdown",
   "metadata": {},
   "source": [
    "# TODO\n",
    "\n",
    "1. Какое соотношение количества положительных и отрицательных примеров? Следует ли его изменить? Если да, то как?\n",
    "2. Добавить подсчет точности на текущем батче. Добавить отображение в tensorboard.\n",
    "3. Разделить выборку на тренировочную `train`, валидационную `validation` и тестовую `test` на основе subject_id. Например в отношении 80-10-10.\n",
    "4. Добавить в `training loop` подсчет функции потерь на валидации `validation loss` каждые 5 эпох. Добавить отображение в tensorboard.\n",
    "5. Добавить в `training loop` подсчет функции точности на валидации `validation accuracy` каждые 5 эпох. Добавить отображение в tensorboard.\n",
    "6. Обучить нейросеть на тренировочной выборке, для определения момента остановки обучения ориентироваться на функцию потерь на валидационной выборке. Сравнить ошибку на валидации и на тесте.\n",
    "7. Можно ли что-то сделать чтобы не мучиться в BraTSDataset с подгрузкой и расчетом путей к файлам?\n",
    "8. Какие еще аугментации можно добавить кроме поворотов?\n",
    "9. Нужен ли dropout в архитектуре на шаге предсказания?\n"
   ]
  },
  {
   "cell_type": "code",
   "execution_count": null,
   "metadata": {},
   "outputs": [],
   "source": []
  },
  {
   "cell_type": "code",
   "execution_count": null,
   "metadata": {},
   "outputs": [],
   "source": []
  }
 ],
 "metadata": {
  "kernelspec": {
   "display_name": "Python 3",
   "language": "python",
   "name": "python3"
  },
  "language_info": {
   "codemirror_mode": {
    "name": "ipython",
    "version": 3
   },
   "file_extension": ".py",
   "mimetype": "text/x-python",
   "name": "python",
   "nbconvert_exporter": "python",
   "pygments_lexer": "ipython3",
   "version": "3.8.5"
  }
 },
 "nbformat": 4,
 "nbformat_minor": 4
}
