{
 "cells": [
  {
   "cell_type": "code",
   "execution_count": 177,
   "metadata": {},
   "outputs": [],
   "source": [
    "import torch\n",
    "import torch.nn as nn\n",
    "import torchvision\n",
    "import torch.nn.functional as F\n",
    "\n",
    "import numpy as np\n",
    "import nibabel"
   ]
  },
  {
   "cell_type": "markdown",
   "metadata": {},
   "source": [
    "# Architectures :"
   ]
  },
  {
   "cell_type": "markdown",
   "metadata": {},
   "source": [
    "## 1) U-Net"
   ]
  },
  {
   "cell_type": "code",
   "execution_count": 148,
   "metadata": {},
   "outputs": [],
   "source": [
    "# сверткаб можно добавить batch_norm\n",
    "def double_conv(in_channel, out_channel):\n",
    "    conv = nn.Sequential(\n",
    "        nn.Conv2d(in_channel, out_channel, kernel_size=3),\n",
    "        nn.ReLU(inplace=True),\n",
    "        nn.Conv2d(out_channel, out_channel, kernel_size=3),\n",
    "        nn.ReLU(inplace=True),\n",
    "    )\n",
    "    return conv\n",
    "\n",
    "\n",
    "# превращает тензор в из одного в нужный размер по центру\n",
    "def crop_tensor(target_tensor, tensor):\n",
    "    target_size = target_tensor.size()[2]\n",
    "    tensor_size = tensor.size()[2]\n",
    "    delta = tensor_size - target_size\n",
    "    delta = delta // 2 \n",
    "    if tensor_size % 2 == 1: # аккуратно! размеры совпадают, но не уверен, что правильно\n",
    "        return tensor[:, :, delta:tensor_size-delta-1, delta:tensor_size-delta-1] \n",
    "    else:\n",
    "        return tensor[:, :, delta:tensor_size-delta, delta:tensor_size-delta] \n",
    "\n",
    "\n",
    "\n",
    "\n",
    "class UNet(nn.Module):\n",
    "    def __init__(self):\n",
    "        super(UNet, self).__init__()\n",
    "\n",
    "        # левый проход\n",
    "        self.down_conv1 = double_conv(1, 64)\n",
    "        self.down_conv2 = double_conv(64, 128)\n",
    "        self.down_conv3 = double_conv(128, 256)\n",
    "        self.down_conv4 = double_conv(256, 512)\n",
    "        self.down_conv5 = double_conv(512, 1024)\n",
    "        self.maxpool = nn.MaxPool2d(kernel_size=2, stride=2)\n",
    "\n",
    "        # правый проход\n",
    "        self.trans1 = nn.ConvTranspose2d(1024, 512, kernel_size=2, stride=2)\n",
    "        self.up_conv1 = double_conv(1024, 512)\n",
    "        \n",
    "        self.trans2 = nn.ConvTranspose2d(512, 256, kernel_size=2, stride=2)\n",
    "        self.up_conv2 = double_conv(512, 256)\n",
    "        \n",
    "        self.trans3 = nn.ConvTranspose2d(256, 128, kernel_size=2, stride=2)\n",
    "        self.up_conv3 = double_conv(256, 128)\n",
    "        \n",
    "        self.trans4 = nn.ConvTranspose2d(128, 64, kernel_size=2, stride=2)\n",
    "        self.up_conv4 = double_conv(128, 64)\n",
    "\n",
    "        # выходной слой\n",
    "        self.out = nn.Conv2d(64, 2, kernel_size=1)\n",
    "        \n",
    "    def crop(self, x, target):\n",
    "        x = torchvision.transforms.functional.center_crop(x, target)\n",
    "        return x\n",
    "\n",
    "    def forward(self, image):\n",
    "\n",
    "        #forward pass левый\n",
    "        x1 = self.down_conv1(image)\n",
    "        x2 = self.maxpool(x1)\n",
    "        \n",
    "        x3 = self.down_conv2(x2)\n",
    "        x4 = self.maxpool(x3)\n",
    "        \n",
    "        x5 = self.down_conv3(x4)\n",
    "        x6 = self.maxpool(x5) \n",
    "        \n",
    "        x7 = self.down_conv4(x6)\n",
    "        x8 = self.maxpool(x7)\n",
    "        \n",
    "        x9 = self.down_conv5(x8)\n",
    "\n",
    "        # forward pass правый\n",
    "        x = self.trans1(x9)\n",
    "        y = crop_tensor(x, x7)\n",
    "        x = self.up_conv1(torch.cat([x,y], 1))\n",
    "        print(x.shape)\n",
    "        \n",
    "        x = self.trans2(x)\n",
    "        y = crop_tensor(x, x5)\n",
    "        x = self.up_conv2(torch.cat([x,y], 1)) # !!! тут были проблемы у crop_image (изза нечетных размеров)\n",
    "        print(x.shape)\n",
    "        \n",
    "        x = self.trans3(x)\n",
    "        y = crop_tensor(x, x3)\n",
    "        x = self.up_conv3(torch.cat([x,y], 1))\n",
    "        print(x.shape)\n",
    "        \n",
    "        x = self.trans4(x)\n",
    "        y = crop_tensor(x, x1)\n",
    "        x = self.up_conv4(torch.cat([x,y], 1))\n",
    "        print(x.shape)\n",
    "        \n",
    "        x = self.out(x)\n",
    "                \n",
    "        return x"
   ]
  },
  {
   "cell_type": "code",
   "execution_count": null,
   "metadata": {},
   "outputs": [],
   "source": []
  },
  {
   "cell_type": "code",
   "execution_count": null,
   "metadata": {},
   "outputs": [],
   "source": []
  },
  {
   "cell_type": "markdown",
   "metadata": {},
   "source": [
    "# Nii-unpacker"
   ]
  },
  {
   "cell_type": "code",
   "execution_count": 175,
   "metadata": {},
   "outputs": [
    {
     "data": {
      "text/plain": [
       "torch.Size([155, 240, 240])"
      ]
     },
     "execution_count": 175,
     "metadata": {},
     "output_type": "execute_result"
    }
   ],
   "source": [
    "from os import listdir\n",
    "from os.path import isfile, join\n",
    "\n",
    "i = 1\n",
    "\n",
    "mypath = r\"C:\\Users\\Alexey\\Desktop\\Thesis Paper 2020\\MICCAI_BraTS2020_TrainingData\\BraTS20_Training_00\" + f'{i}'\n",
    "onlyfiles = [f for f in listdir(mypath) if isfile(join(mypath, f))]\n",
    "img = nibabel.load(mypath + '\\\\' + onlyfiles[0])\n",
    "data = img.get_fdata()\n",
    "data = torch.Tensor(data)\n",
    "data.size()\n",
    "data = data.permute(2, 0, 1)\n",
    "data.shape"
   ]
  },
  {
   "cell_type": "code",
   "execution_count": null,
   "metadata": {},
   "outputs": [],
   "source": []
  }
 ],
 "metadata": {
  "kernelspec": {
   "display_name": "Python 3",
   "language": "python",
   "name": "python3"
  },
  "language_info": {
   "codemirror_mode": {
    "name": "ipython",
    "version": 3
   },
   "file_extension": ".py",
   "mimetype": "text/x-python",
   "name": "python",
   "nbconvert_exporter": "python",
   "pygments_lexer": "ipython3",
   "version": "3.8.3"
  }
 },
 "nbformat": 4,
 "nbformat_minor": 4
}
