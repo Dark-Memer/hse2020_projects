{
  "nbformat": 4,
  "nbformat_minor": 0,
  "metadata": {
    "colab": {
      "name": "Coursework.ipynb",
      "provenance": []
    },
    "kernelspec": {
      "name": "python3",
      "display_name": "Python 3"
    },
    "accelerator": "GPU",
    "widgets": {
      "application/vnd.jupyter.widget-state+json": {
        "6fb116329eff4dd3bc63c17a34e4ff71": {
          "model_module": "@jupyter-widgets/controls",
          "model_name": "HBoxModel",
          "state": {
            "_view_name": "HBoxView",
            "_dom_classes": [],
            "_model_name": "HBoxModel",
            "_view_module": "@jupyter-widgets/controls",
            "_model_module_version": "1.5.0",
            "_view_count": null,
            "_view_module_version": "1.5.0",
            "box_style": "",
            "layout": "IPY_MODEL_7dd2974355b548758d6f2d80c0f698c6",
            "_model_module": "@jupyter-widgets/controls",
            "children": [
              "IPY_MODEL_07fd737c06c34f4ba2d668c76cf6b314",
              "IPY_MODEL_8951b2d1c4e34e588b206ac0eb378f77"
            ]
          }
        },
        "7dd2974355b548758d6f2d80c0f698c6": {
          "model_module": "@jupyter-widgets/base",
          "model_name": "LayoutModel",
          "state": {
            "_view_name": "LayoutView",
            "grid_template_rows": null,
            "right": null,
            "justify_content": null,
            "_view_module": "@jupyter-widgets/base",
            "overflow": null,
            "_model_module_version": "1.2.0",
            "_view_count": null,
            "flex_flow": null,
            "width": null,
            "min_width": null,
            "border": null,
            "align_items": null,
            "bottom": null,
            "_model_module": "@jupyter-widgets/base",
            "top": null,
            "grid_column": null,
            "overflow_y": null,
            "overflow_x": null,
            "grid_auto_flow": null,
            "grid_area": null,
            "grid_template_columns": null,
            "flex": null,
            "_model_name": "LayoutModel",
            "justify_items": null,
            "grid_row": null,
            "max_height": null,
            "align_content": null,
            "visibility": null,
            "align_self": null,
            "height": null,
            "min_height": null,
            "padding": null,
            "grid_auto_rows": null,
            "grid_gap": null,
            "max_width": null,
            "order": null,
            "_view_module_version": "1.2.0",
            "grid_template_areas": null,
            "object_position": null,
            "object_fit": null,
            "grid_auto_columns": null,
            "margin": null,
            "display": null,
            "left": null
          }
        },
        "07fd737c06c34f4ba2d668c76cf6b314": {
          "model_module": "@jupyter-widgets/controls",
          "model_name": "FloatProgressModel",
          "state": {
            "_view_name": "ProgressView",
            "style": "IPY_MODEL_48810f6523ac4961bc281824a952e47e",
            "_dom_classes": [],
            "description": "100%",
            "_model_name": "FloatProgressModel",
            "bar_style": "success",
            "max": 152,
            "_view_module": "@jupyter-widgets/controls",
            "_model_module_version": "1.5.0",
            "value": 152,
            "_view_count": null,
            "_view_module_version": "1.5.0",
            "orientation": "horizontal",
            "min": 0,
            "description_tooltip": null,
            "_model_module": "@jupyter-widgets/controls",
            "layout": "IPY_MODEL_2fb896aea30947ebb862e5c4c96ae60b"
          }
        },
        "8951b2d1c4e34e588b206ac0eb378f77": {
          "model_module": "@jupyter-widgets/controls",
          "model_name": "HTMLModel",
          "state": {
            "_view_name": "HTMLView",
            "style": "IPY_MODEL_74870e4fc9354b6f920a8d95055b9a1c",
            "_dom_classes": [],
            "description": "",
            "_model_name": "HTMLModel",
            "placeholder": "​",
            "_view_module": "@jupyter-widgets/controls",
            "_model_module_version": "1.5.0",
            "value": " 152/152 [17:39&lt;00:00,  6.97s/it]",
            "_view_count": null,
            "_view_module_version": "1.5.0",
            "description_tooltip": null,
            "_model_module": "@jupyter-widgets/controls",
            "layout": "IPY_MODEL_b0a4f72ee7094995ba5173dc3532b2cd"
          }
        },
        "48810f6523ac4961bc281824a952e47e": {
          "model_module": "@jupyter-widgets/controls",
          "model_name": "ProgressStyleModel",
          "state": {
            "_view_name": "StyleView",
            "_model_name": "ProgressStyleModel",
            "description_width": "initial",
            "_view_module": "@jupyter-widgets/base",
            "_model_module_version": "1.5.0",
            "_view_count": null,
            "_view_module_version": "1.2.0",
            "bar_color": null,
            "_model_module": "@jupyter-widgets/controls"
          }
        },
        "2fb896aea30947ebb862e5c4c96ae60b": {
          "model_module": "@jupyter-widgets/base",
          "model_name": "LayoutModel",
          "state": {
            "_view_name": "LayoutView",
            "grid_template_rows": null,
            "right": null,
            "justify_content": null,
            "_view_module": "@jupyter-widgets/base",
            "overflow": null,
            "_model_module_version": "1.2.0",
            "_view_count": null,
            "flex_flow": null,
            "width": null,
            "min_width": null,
            "border": null,
            "align_items": null,
            "bottom": null,
            "_model_module": "@jupyter-widgets/base",
            "top": null,
            "grid_column": null,
            "overflow_y": null,
            "overflow_x": null,
            "grid_auto_flow": null,
            "grid_area": null,
            "grid_template_columns": null,
            "flex": null,
            "_model_name": "LayoutModel",
            "justify_items": null,
            "grid_row": null,
            "max_height": null,
            "align_content": null,
            "visibility": null,
            "align_self": null,
            "height": null,
            "min_height": null,
            "padding": null,
            "grid_auto_rows": null,
            "grid_gap": null,
            "max_width": null,
            "order": null,
            "_view_module_version": "1.2.0",
            "grid_template_areas": null,
            "object_position": null,
            "object_fit": null,
            "grid_auto_columns": null,
            "margin": null,
            "display": null,
            "left": null
          }
        },
        "74870e4fc9354b6f920a8d95055b9a1c": {
          "model_module": "@jupyter-widgets/controls",
          "model_name": "DescriptionStyleModel",
          "state": {
            "_view_name": "StyleView",
            "_model_name": "DescriptionStyleModel",
            "description_width": "",
            "_view_module": "@jupyter-widgets/base",
            "_model_module_version": "1.5.0",
            "_view_count": null,
            "_view_module_version": "1.2.0",
            "_model_module": "@jupyter-widgets/controls"
          }
        },
        "b0a4f72ee7094995ba5173dc3532b2cd": {
          "model_module": "@jupyter-widgets/base",
          "model_name": "LayoutModel",
          "state": {
            "_view_name": "LayoutView",
            "grid_template_rows": null,
            "right": null,
            "justify_content": null,
            "_view_module": "@jupyter-widgets/base",
            "overflow": null,
            "_model_module_version": "1.2.0",
            "_view_count": null,
            "flex_flow": null,
            "width": null,
            "min_width": null,
            "border": null,
            "align_items": null,
            "bottom": null,
            "_model_module": "@jupyter-widgets/base",
            "top": null,
            "grid_column": null,
            "overflow_y": null,
            "overflow_x": null,
            "grid_auto_flow": null,
            "grid_area": null,
            "grid_template_columns": null,
            "flex": null,
            "_model_name": "LayoutModel",
            "justify_items": null,
            "grid_row": null,
            "max_height": null,
            "align_content": null,
            "visibility": null,
            "align_self": null,
            "height": null,
            "min_height": null,
            "padding": null,
            "grid_auto_rows": null,
            "grid_gap": null,
            "max_width": null,
            "order": null,
            "_view_module_version": "1.2.0",
            "grid_template_areas": null,
            "object_position": null,
            "object_fit": null,
            "grid_auto_columns": null,
            "margin": null,
            "display": null,
            "left": null
          }
        },
        "e797cd6c750b4d64bfc81b1de59a8a52": {
          "model_module": "@jupyter-widgets/controls",
          "model_name": "HBoxModel",
          "state": {
            "_view_name": "HBoxView",
            "_dom_classes": [],
            "_model_name": "HBoxModel",
            "_view_module": "@jupyter-widgets/controls",
            "_model_module_version": "1.5.0",
            "_view_count": null,
            "_view_module_version": "1.5.0",
            "box_style": "",
            "layout": "IPY_MODEL_862353cb507f4fedaa605abda456aa1c",
            "_model_module": "@jupyter-widgets/controls",
            "children": [
              "IPY_MODEL_f5c2dc2ad7d349189fd4ba20fffe4b03",
              "IPY_MODEL_a8454291b47045649fdd0129a8f01fff"
            ]
          }
        },
        "862353cb507f4fedaa605abda456aa1c": {
          "model_module": "@jupyter-widgets/base",
          "model_name": "LayoutModel",
          "state": {
            "_view_name": "LayoutView",
            "grid_template_rows": null,
            "right": null,
            "justify_content": null,
            "_view_module": "@jupyter-widgets/base",
            "overflow": null,
            "_model_module_version": "1.2.0",
            "_view_count": null,
            "flex_flow": null,
            "width": null,
            "min_width": null,
            "border": null,
            "align_items": null,
            "bottom": null,
            "_model_module": "@jupyter-widgets/base",
            "top": null,
            "grid_column": null,
            "overflow_y": null,
            "overflow_x": null,
            "grid_auto_flow": null,
            "grid_area": null,
            "grid_template_columns": null,
            "flex": null,
            "_model_name": "LayoutModel",
            "justify_items": null,
            "grid_row": null,
            "max_height": null,
            "align_content": null,
            "visibility": null,
            "align_self": null,
            "height": null,
            "min_height": null,
            "padding": null,
            "grid_auto_rows": null,
            "grid_gap": null,
            "max_width": null,
            "order": null,
            "_view_module_version": "1.2.0",
            "grid_template_areas": null,
            "object_position": null,
            "object_fit": null,
            "grid_auto_columns": null,
            "margin": null,
            "display": null,
            "left": null
          }
        },
        "f5c2dc2ad7d349189fd4ba20fffe4b03": {
          "model_module": "@jupyter-widgets/controls",
          "model_name": "FloatProgressModel",
          "state": {
            "_view_name": "ProgressView",
            "style": "IPY_MODEL_5bd25706415b463c9a268f8f8e8fe407",
            "_dom_classes": [],
            "description": "100%",
            "_model_name": "FloatProgressModel",
            "bar_style": "success",
            "max": 152,
            "_view_module": "@jupyter-widgets/controls",
            "_model_module_version": "1.5.0",
            "value": 152,
            "_view_count": null,
            "_view_module_version": "1.5.0",
            "orientation": "horizontal",
            "min": 0,
            "description_tooltip": null,
            "_model_module": "@jupyter-widgets/controls",
            "layout": "IPY_MODEL_17fa9b4d61a44e36bb101d02d9ab546f"
          }
        },
        "a8454291b47045649fdd0129a8f01fff": {
          "model_module": "@jupyter-widgets/controls",
          "model_name": "HTMLModel",
          "state": {
            "_view_name": "HTMLView",
            "style": "IPY_MODEL_7a1d5d687cb140649b96171401992b30",
            "_dom_classes": [],
            "description": "",
            "_model_name": "HTMLModel",
            "placeholder": "​",
            "_view_module": "@jupyter-widgets/controls",
            "_model_module_version": "1.5.0",
            "value": " 152/152 [12:39&lt;00:00,  4.99s/it]",
            "_view_count": null,
            "_view_module_version": "1.5.0",
            "description_tooltip": null,
            "_model_module": "@jupyter-widgets/controls",
            "layout": "IPY_MODEL_10be4bafa5454278bebcd13b1cabe23e"
          }
        },
        "5bd25706415b463c9a268f8f8e8fe407": {
          "model_module": "@jupyter-widgets/controls",
          "model_name": "ProgressStyleModel",
          "state": {
            "_view_name": "StyleView",
            "_model_name": "ProgressStyleModel",
            "description_width": "initial",
            "_view_module": "@jupyter-widgets/base",
            "_model_module_version": "1.5.0",
            "_view_count": null,
            "_view_module_version": "1.2.0",
            "bar_color": null,
            "_model_module": "@jupyter-widgets/controls"
          }
        },
        "17fa9b4d61a44e36bb101d02d9ab546f": {
          "model_module": "@jupyter-widgets/base",
          "model_name": "LayoutModel",
          "state": {
            "_view_name": "LayoutView",
            "grid_template_rows": null,
            "right": null,
            "justify_content": null,
            "_view_module": "@jupyter-widgets/base",
            "overflow": null,
            "_model_module_version": "1.2.0",
            "_view_count": null,
            "flex_flow": null,
            "width": null,
            "min_width": null,
            "border": null,
            "align_items": null,
            "bottom": null,
            "_model_module": "@jupyter-widgets/base",
            "top": null,
            "grid_column": null,
            "overflow_y": null,
            "overflow_x": null,
            "grid_auto_flow": null,
            "grid_area": null,
            "grid_template_columns": null,
            "flex": null,
            "_model_name": "LayoutModel",
            "justify_items": null,
            "grid_row": null,
            "max_height": null,
            "align_content": null,
            "visibility": null,
            "align_self": null,
            "height": null,
            "min_height": null,
            "padding": null,
            "grid_auto_rows": null,
            "grid_gap": null,
            "max_width": null,
            "order": null,
            "_view_module_version": "1.2.0",
            "grid_template_areas": null,
            "object_position": null,
            "object_fit": null,
            "grid_auto_columns": null,
            "margin": null,
            "display": null,
            "left": null
          }
        },
        "7a1d5d687cb140649b96171401992b30": {
          "model_module": "@jupyter-widgets/controls",
          "model_name": "DescriptionStyleModel",
          "state": {
            "_view_name": "StyleView",
            "_model_name": "DescriptionStyleModel",
            "description_width": "",
            "_view_module": "@jupyter-widgets/base",
            "_model_module_version": "1.5.0",
            "_view_count": null,
            "_view_module_version": "1.2.0",
            "_model_module": "@jupyter-widgets/controls"
          }
        },
        "10be4bafa5454278bebcd13b1cabe23e": {
          "model_module": "@jupyter-widgets/base",
          "model_name": "LayoutModel",
          "state": {
            "_view_name": "LayoutView",
            "grid_template_rows": null,
            "right": null,
            "justify_content": null,
            "_view_module": "@jupyter-widgets/base",
            "overflow": null,
            "_model_module_version": "1.2.0",
            "_view_count": null,
            "flex_flow": null,
            "width": null,
            "min_width": null,
            "border": null,
            "align_items": null,
            "bottom": null,
            "_model_module": "@jupyter-widgets/base",
            "top": null,
            "grid_column": null,
            "overflow_y": null,
            "overflow_x": null,
            "grid_auto_flow": null,
            "grid_area": null,
            "grid_template_columns": null,
            "flex": null,
            "_model_name": "LayoutModel",
            "justify_items": null,
            "grid_row": null,
            "max_height": null,
            "align_content": null,
            "visibility": null,
            "align_self": null,
            "height": null,
            "min_height": null,
            "padding": null,
            "grid_auto_rows": null,
            "grid_gap": null,
            "max_width": null,
            "order": null,
            "_view_module_version": "1.2.0",
            "grid_template_areas": null,
            "object_position": null,
            "object_fit": null,
            "grid_auto_columns": null,
            "margin": null,
            "display": null,
            "left": null
          }
        },
        "622a7b6a33ce452398aead79273fafe8": {
          "model_module": "@jupyter-widgets/controls",
          "model_name": "HBoxModel",
          "state": {
            "_view_name": "HBoxView",
            "_dom_classes": [],
            "_model_name": "HBoxModel",
            "_view_module": "@jupyter-widgets/controls",
            "_model_module_version": "1.5.0",
            "_view_count": null,
            "_view_module_version": "1.5.0",
            "box_style": "",
            "layout": "IPY_MODEL_74cfd6b252e6427bbf9d66ab7ad9cf4d",
            "_model_module": "@jupyter-widgets/controls",
            "children": [
              "IPY_MODEL_6f2395db21b44a73977a92f401eccd44",
              "IPY_MODEL_dd7abb1f22ed46f7a754add7fa67b253"
            ]
          }
        },
        "74cfd6b252e6427bbf9d66ab7ad9cf4d": {
          "model_module": "@jupyter-widgets/base",
          "model_name": "LayoutModel",
          "state": {
            "_view_name": "LayoutView",
            "grid_template_rows": null,
            "right": null,
            "justify_content": null,
            "_view_module": "@jupyter-widgets/base",
            "overflow": null,
            "_model_module_version": "1.2.0",
            "_view_count": null,
            "flex_flow": null,
            "width": null,
            "min_width": null,
            "border": null,
            "align_items": null,
            "bottom": null,
            "_model_module": "@jupyter-widgets/base",
            "top": null,
            "grid_column": null,
            "overflow_y": null,
            "overflow_x": null,
            "grid_auto_flow": null,
            "grid_area": null,
            "grid_template_columns": null,
            "flex": null,
            "_model_name": "LayoutModel",
            "justify_items": null,
            "grid_row": null,
            "max_height": null,
            "align_content": null,
            "visibility": null,
            "align_self": null,
            "height": null,
            "min_height": null,
            "padding": null,
            "grid_auto_rows": null,
            "grid_gap": null,
            "max_width": null,
            "order": null,
            "_view_module_version": "1.2.0",
            "grid_template_areas": null,
            "object_position": null,
            "object_fit": null,
            "grid_auto_columns": null,
            "margin": null,
            "display": null,
            "left": null
          }
        },
        "6f2395db21b44a73977a92f401eccd44": {
          "model_module": "@jupyter-widgets/controls",
          "model_name": "FloatProgressModel",
          "state": {
            "_view_name": "ProgressView",
            "style": "IPY_MODEL_910ff03ffe0c403d90152d45192358dc",
            "_dom_classes": [],
            "description": "100%",
            "_model_name": "FloatProgressModel",
            "bar_style": "success",
            "max": 152,
            "_view_module": "@jupyter-widgets/controls",
            "_model_module_version": "1.5.0",
            "value": 152,
            "_view_count": null,
            "_view_module_version": "1.5.0",
            "orientation": "horizontal",
            "min": 0,
            "description_tooltip": null,
            "_model_module": "@jupyter-widgets/controls",
            "layout": "IPY_MODEL_079aaef40b744b0683ddc7a6f06c3a55"
          }
        },
        "dd7abb1f22ed46f7a754add7fa67b253": {
          "model_module": "@jupyter-widgets/controls",
          "model_name": "HTMLModel",
          "state": {
            "_view_name": "HTMLView",
            "style": "IPY_MODEL_e43630552c994244bd8ed90eca98e02a",
            "_dom_classes": [],
            "description": "",
            "_model_name": "HTMLModel",
            "placeholder": "​",
            "_view_module": "@jupyter-widgets/controls",
            "_model_module_version": "1.5.0",
            "value": " 152/152 [03:44&lt;00:00,  1.48s/it]",
            "_view_count": null,
            "_view_module_version": "1.5.0",
            "description_tooltip": null,
            "_model_module": "@jupyter-widgets/controls",
            "layout": "IPY_MODEL_33bd2424acbf4d5cb96b47fd8f0e6bdd"
          }
        },
        "910ff03ffe0c403d90152d45192358dc": {
          "model_module": "@jupyter-widgets/controls",
          "model_name": "ProgressStyleModel",
          "state": {
            "_view_name": "StyleView",
            "_model_name": "ProgressStyleModel",
            "description_width": "initial",
            "_view_module": "@jupyter-widgets/base",
            "_model_module_version": "1.5.0",
            "_view_count": null,
            "_view_module_version": "1.2.0",
            "bar_color": null,
            "_model_module": "@jupyter-widgets/controls"
          }
        },
        "079aaef40b744b0683ddc7a6f06c3a55": {
          "model_module": "@jupyter-widgets/base",
          "model_name": "LayoutModel",
          "state": {
            "_view_name": "LayoutView",
            "grid_template_rows": null,
            "right": null,
            "justify_content": null,
            "_view_module": "@jupyter-widgets/base",
            "overflow": null,
            "_model_module_version": "1.2.0",
            "_view_count": null,
            "flex_flow": null,
            "width": null,
            "min_width": null,
            "border": null,
            "align_items": null,
            "bottom": null,
            "_model_module": "@jupyter-widgets/base",
            "top": null,
            "grid_column": null,
            "overflow_y": null,
            "overflow_x": null,
            "grid_auto_flow": null,
            "grid_area": null,
            "grid_template_columns": null,
            "flex": null,
            "_model_name": "LayoutModel",
            "justify_items": null,
            "grid_row": null,
            "max_height": null,
            "align_content": null,
            "visibility": null,
            "align_self": null,
            "height": null,
            "min_height": null,
            "padding": null,
            "grid_auto_rows": null,
            "grid_gap": null,
            "max_width": null,
            "order": null,
            "_view_module_version": "1.2.0",
            "grid_template_areas": null,
            "object_position": null,
            "object_fit": null,
            "grid_auto_columns": null,
            "margin": null,
            "display": null,
            "left": null
          }
        },
        "e43630552c994244bd8ed90eca98e02a": {
          "model_module": "@jupyter-widgets/controls",
          "model_name": "DescriptionStyleModel",
          "state": {
            "_view_name": "StyleView",
            "_model_name": "DescriptionStyleModel",
            "description_width": "",
            "_view_module": "@jupyter-widgets/base",
            "_model_module_version": "1.5.0",
            "_view_count": null,
            "_view_module_version": "1.2.0",
            "_model_module": "@jupyter-widgets/controls"
          }
        },
        "33bd2424acbf4d5cb96b47fd8f0e6bdd": {
          "model_module": "@jupyter-widgets/base",
          "model_name": "LayoutModel",
          "state": {
            "_view_name": "LayoutView",
            "grid_template_rows": null,
            "right": null,
            "justify_content": null,
            "_view_module": "@jupyter-widgets/base",
            "overflow": null,
            "_model_module_version": "1.2.0",
            "_view_count": null,
            "flex_flow": null,
            "width": null,
            "min_width": null,
            "border": null,
            "align_items": null,
            "bottom": null,
            "_model_module": "@jupyter-widgets/base",
            "top": null,
            "grid_column": null,
            "overflow_y": null,
            "overflow_x": null,
            "grid_auto_flow": null,
            "grid_area": null,
            "grid_template_columns": null,
            "flex": null,
            "_model_name": "LayoutModel",
            "justify_items": null,
            "grid_row": null,
            "max_height": null,
            "align_content": null,
            "visibility": null,
            "align_self": null,
            "height": null,
            "min_height": null,
            "padding": null,
            "grid_auto_rows": null,
            "grid_gap": null,
            "max_width": null,
            "order": null,
            "_view_module_version": "1.2.0",
            "grid_template_areas": null,
            "object_position": null,
            "object_fit": null,
            "grid_auto_columns": null,
            "margin": null,
            "display": null,
            "left": null
          }
        },
        "300dac9bf679401db293ef7269dca4d6": {
          "model_module": "@jupyter-widgets/controls",
          "model_name": "HBoxModel",
          "state": {
            "_view_name": "HBoxView",
            "_dom_classes": [],
            "_model_name": "HBoxModel",
            "_view_module": "@jupyter-widgets/controls",
            "_model_module_version": "1.5.0",
            "_view_count": null,
            "_view_module_version": "1.5.0",
            "box_style": "",
            "layout": "IPY_MODEL_1eef3f4b70794c67a93136f132c6801f",
            "_model_module": "@jupyter-widgets/controls",
            "children": [
              "IPY_MODEL_75c83f59878b4d28a3018d0d199041c6",
              "IPY_MODEL_b01f09d2bfeb47808701a0ae0d0245c7"
            ]
          }
        },
        "1eef3f4b70794c67a93136f132c6801f": {
          "model_module": "@jupyter-widgets/base",
          "model_name": "LayoutModel",
          "state": {
            "_view_name": "LayoutView",
            "grid_template_rows": null,
            "right": null,
            "justify_content": null,
            "_view_module": "@jupyter-widgets/base",
            "overflow": null,
            "_model_module_version": "1.2.0",
            "_view_count": null,
            "flex_flow": null,
            "width": null,
            "min_width": null,
            "border": null,
            "align_items": null,
            "bottom": null,
            "_model_module": "@jupyter-widgets/base",
            "top": null,
            "grid_column": null,
            "overflow_y": null,
            "overflow_x": null,
            "grid_auto_flow": null,
            "grid_area": null,
            "grid_template_columns": null,
            "flex": null,
            "_model_name": "LayoutModel",
            "justify_items": null,
            "grid_row": null,
            "max_height": null,
            "align_content": null,
            "visibility": null,
            "align_self": null,
            "height": null,
            "min_height": null,
            "padding": null,
            "grid_auto_rows": null,
            "grid_gap": null,
            "max_width": null,
            "order": null,
            "_view_module_version": "1.2.0",
            "grid_template_areas": null,
            "object_position": null,
            "object_fit": null,
            "grid_auto_columns": null,
            "margin": null,
            "display": null,
            "left": null
          }
        },
        "75c83f59878b4d28a3018d0d199041c6": {
          "model_module": "@jupyter-widgets/controls",
          "model_name": "FloatProgressModel",
          "state": {
            "_view_name": "ProgressView",
            "style": "IPY_MODEL_f77cdd3f25664f989d054c328ada57a2",
            "_dom_classes": [],
            "description": "100%",
            "_model_name": "FloatProgressModel",
            "bar_style": "success",
            "max": 152,
            "_view_module": "@jupyter-widgets/controls",
            "_model_module_version": "1.5.0",
            "value": 152,
            "_view_count": null,
            "_view_module_version": "1.5.0",
            "orientation": "horizontal",
            "min": 0,
            "description_tooltip": null,
            "_model_module": "@jupyter-widgets/controls",
            "layout": "IPY_MODEL_f192d28272ef494ea52f9b84b38959e1"
          }
        },
        "b01f09d2bfeb47808701a0ae0d0245c7": {
          "model_module": "@jupyter-widgets/controls",
          "model_name": "HTMLModel",
          "state": {
            "_view_name": "HTMLView",
            "style": "IPY_MODEL_239a024be1f94d30ba9008f45a658d89",
            "_dom_classes": [],
            "description": "",
            "_model_name": "HTMLModel",
            "placeholder": "​",
            "_view_module": "@jupyter-widgets/controls",
            "_model_module_version": "1.5.0",
            "value": " 152/152 [06:54&lt;00:00,  2.73s/it]",
            "_view_count": null,
            "_view_module_version": "1.5.0",
            "description_tooltip": null,
            "_model_module": "@jupyter-widgets/controls",
            "layout": "IPY_MODEL_dce3e84faaed45d9a900b5acd5a5a7bf"
          }
        },
        "f77cdd3f25664f989d054c328ada57a2": {
          "model_module": "@jupyter-widgets/controls",
          "model_name": "ProgressStyleModel",
          "state": {
            "_view_name": "StyleView",
            "_model_name": "ProgressStyleModel",
            "description_width": "initial",
            "_view_module": "@jupyter-widgets/base",
            "_model_module_version": "1.5.0",
            "_view_count": null,
            "_view_module_version": "1.2.0",
            "bar_color": null,
            "_model_module": "@jupyter-widgets/controls"
          }
        },
        "f192d28272ef494ea52f9b84b38959e1": {
          "model_module": "@jupyter-widgets/base",
          "model_name": "LayoutModel",
          "state": {
            "_view_name": "LayoutView",
            "grid_template_rows": null,
            "right": null,
            "justify_content": null,
            "_view_module": "@jupyter-widgets/base",
            "overflow": null,
            "_model_module_version": "1.2.0",
            "_view_count": null,
            "flex_flow": null,
            "width": null,
            "min_width": null,
            "border": null,
            "align_items": null,
            "bottom": null,
            "_model_module": "@jupyter-widgets/base",
            "top": null,
            "grid_column": null,
            "overflow_y": null,
            "overflow_x": null,
            "grid_auto_flow": null,
            "grid_area": null,
            "grid_template_columns": null,
            "flex": null,
            "_model_name": "LayoutModel",
            "justify_items": null,
            "grid_row": null,
            "max_height": null,
            "align_content": null,
            "visibility": null,
            "align_self": null,
            "height": null,
            "min_height": null,
            "padding": null,
            "grid_auto_rows": null,
            "grid_gap": null,
            "max_width": null,
            "order": null,
            "_view_module_version": "1.2.0",
            "grid_template_areas": null,
            "object_position": null,
            "object_fit": null,
            "grid_auto_columns": null,
            "margin": null,
            "display": null,
            "left": null
          }
        },
        "239a024be1f94d30ba9008f45a658d89": {
          "model_module": "@jupyter-widgets/controls",
          "model_name": "DescriptionStyleModel",
          "state": {
            "_view_name": "StyleView",
            "_model_name": "DescriptionStyleModel",
            "description_width": "",
            "_view_module": "@jupyter-widgets/base",
            "_model_module_version": "1.5.0",
            "_view_count": null,
            "_view_module_version": "1.2.0",
            "_model_module": "@jupyter-widgets/controls"
          }
        },
        "dce3e84faaed45d9a900b5acd5a5a7bf": {
          "model_module": "@jupyter-widgets/base",
          "model_name": "LayoutModel",
          "state": {
            "_view_name": "LayoutView",
            "grid_template_rows": null,
            "right": null,
            "justify_content": null,
            "_view_module": "@jupyter-widgets/base",
            "overflow": null,
            "_model_module_version": "1.2.0",
            "_view_count": null,
            "flex_flow": null,
            "width": null,
            "min_width": null,
            "border": null,
            "align_items": null,
            "bottom": null,
            "_model_module": "@jupyter-widgets/base",
            "top": null,
            "grid_column": null,
            "overflow_y": null,
            "overflow_x": null,
            "grid_auto_flow": null,
            "grid_area": null,
            "grid_template_columns": null,
            "flex": null,
            "_model_name": "LayoutModel",
            "justify_items": null,
            "grid_row": null,
            "max_height": null,
            "align_content": null,
            "visibility": null,
            "align_self": null,
            "height": null,
            "min_height": null,
            "padding": null,
            "grid_auto_rows": null,
            "grid_gap": null,
            "max_width": null,
            "order": null,
            "_view_module_version": "1.2.0",
            "grid_template_areas": null,
            "object_position": null,
            "object_fit": null,
            "grid_auto_columns": null,
            "margin": null,
            "display": null,
            "left": null
          }
        },
        "d7d5303eb0f54038bac55f7b594d6a38": {
          "model_module": "@jupyter-widgets/controls",
          "model_name": "HBoxModel",
          "state": {
            "_view_name": "HBoxView",
            "_dom_classes": [],
            "_model_name": "HBoxModel",
            "_view_module": "@jupyter-widgets/controls",
            "_model_module_version": "1.5.0",
            "_view_count": null,
            "_view_module_version": "1.5.0",
            "box_style": "",
            "layout": "IPY_MODEL_236936f07eb7409c92a68b1df54b9126",
            "_model_module": "@jupyter-widgets/controls",
            "children": [
              "IPY_MODEL_96dff634a6f14d378c9ad1d25256495d",
              "IPY_MODEL_26c9080d58fc46b6ba037ba58b235d10"
            ]
          }
        },
        "236936f07eb7409c92a68b1df54b9126": {
          "model_module": "@jupyter-widgets/base",
          "model_name": "LayoutModel",
          "state": {
            "_view_name": "LayoutView",
            "grid_template_rows": null,
            "right": null,
            "justify_content": null,
            "_view_module": "@jupyter-widgets/base",
            "overflow": null,
            "_model_module_version": "1.2.0",
            "_view_count": null,
            "flex_flow": null,
            "width": null,
            "min_width": null,
            "border": null,
            "align_items": null,
            "bottom": null,
            "_model_module": "@jupyter-widgets/base",
            "top": null,
            "grid_column": null,
            "overflow_y": null,
            "overflow_x": null,
            "grid_auto_flow": null,
            "grid_area": null,
            "grid_template_columns": null,
            "flex": null,
            "_model_name": "LayoutModel",
            "justify_items": null,
            "grid_row": null,
            "max_height": null,
            "align_content": null,
            "visibility": null,
            "align_self": null,
            "height": null,
            "min_height": null,
            "padding": null,
            "grid_auto_rows": null,
            "grid_gap": null,
            "max_width": null,
            "order": null,
            "_view_module_version": "1.2.0",
            "grid_template_areas": null,
            "object_position": null,
            "object_fit": null,
            "grid_auto_columns": null,
            "margin": null,
            "display": null,
            "left": null
          }
        },
        "96dff634a6f14d378c9ad1d25256495d": {
          "model_module": "@jupyter-widgets/controls",
          "model_name": "FloatProgressModel",
          "state": {
            "_view_name": "ProgressView",
            "style": "IPY_MODEL_8192b452bc904398afba6eb976d026a8",
            "_dom_classes": [],
            "description": "100%",
            "_model_name": "FloatProgressModel",
            "bar_style": "success",
            "max": 152,
            "_view_module": "@jupyter-widgets/controls",
            "_model_module_version": "1.5.0",
            "value": 152,
            "_view_count": null,
            "_view_module_version": "1.5.0",
            "orientation": "horizontal",
            "min": 0,
            "description_tooltip": null,
            "_model_module": "@jupyter-widgets/controls",
            "layout": "IPY_MODEL_adcc57a836f14d98a5c3cbb53ab4ffb1"
          }
        },
        "26c9080d58fc46b6ba037ba58b235d10": {
          "model_module": "@jupyter-widgets/controls",
          "model_name": "HTMLModel",
          "state": {
            "_view_name": "HTMLView",
            "style": "IPY_MODEL_a099885e694b43dd9e2f910170e43e01",
            "_dom_classes": [],
            "description": "",
            "_model_name": "HTMLModel",
            "placeholder": "​",
            "_view_module": "@jupyter-widgets/controls",
            "_model_module_version": "1.5.0",
            "value": " 152/152 [02:52&lt;00:00,  1.13s/it]",
            "_view_count": null,
            "_view_module_version": "1.5.0",
            "description_tooltip": null,
            "_model_module": "@jupyter-widgets/controls",
            "layout": "IPY_MODEL_2cf686a95f8e4710b030d26506493b6a"
          }
        },
        "8192b452bc904398afba6eb976d026a8": {
          "model_module": "@jupyter-widgets/controls",
          "model_name": "ProgressStyleModel",
          "state": {
            "_view_name": "StyleView",
            "_model_name": "ProgressStyleModel",
            "description_width": "initial",
            "_view_module": "@jupyter-widgets/base",
            "_model_module_version": "1.5.0",
            "_view_count": null,
            "_view_module_version": "1.2.0",
            "bar_color": null,
            "_model_module": "@jupyter-widgets/controls"
          }
        },
        "adcc57a836f14d98a5c3cbb53ab4ffb1": {
          "model_module": "@jupyter-widgets/base",
          "model_name": "LayoutModel",
          "state": {
            "_view_name": "LayoutView",
            "grid_template_rows": null,
            "right": null,
            "justify_content": null,
            "_view_module": "@jupyter-widgets/base",
            "overflow": null,
            "_model_module_version": "1.2.0",
            "_view_count": null,
            "flex_flow": null,
            "width": null,
            "min_width": null,
            "border": null,
            "align_items": null,
            "bottom": null,
            "_model_module": "@jupyter-widgets/base",
            "top": null,
            "grid_column": null,
            "overflow_y": null,
            "overflow_x": null,
            "grid_auto_flow": null,
            "grid_area": null,
            "grid_template_columns": null,
            "flex": null,
            "_model_name": "LayoutModel",
            "justify_items": null,
            "grid_row": null,
            "max_height": null,
            "align_content": null,
            "visibility": null,
            "align_self": null,
            "height": null,
            "min_height": null,
            "padding": null,
            "grid_auto_rows": null,
            "grid_gap": null,
            "max_width": null,
            "order": null,
            "_view_module_version": "1.2.0",
            "grid_template_areas": null,
            "object_position": null,
            "object_fit": null,
            "grid_auto_columns": null,
            "margin": null,
            "display": null,
            "left": null
          }
        },
        "a099885e694b43dd9e2f910170e43e01": {
          "model_module": "@jupyter-widgets/controls",
          "model_name": "DescriptionStyleModel",
          "state": {
            "_view_name": "StyleView",
            "_model_name": "DescriptionStyleModel",
            "description_width": "",
            "_view_module": "@jupyter-widgets/base",
            "_model_module_version": "1.5.0",
            "_view_count": null,
            "_view_module_version": "1.2.0",
            "_model_module": "@jupyter-widgets/controls"
          }
        },
        "2cf686a95f8e4710b030d26506493b6a": {
          "model_module": "@jupyter-widgets/base",
          "model_name": "LayoutModel",
          "state": {
            "_view_name": "LayoutView",
            "grid_template_rows": null,
            "right": null,
            "justify_content": null,
            "_view_module": "@jupyter-widgets/base",
            "overflow": null,
            "_model_module_version": "1.2.0",
            "_view_count": null,
            "flex_flow": null,
            "width": null,
            "min_width": null,
            "border": null,
            "align_items": null,
            "bottom": null,
            "_model_module": "@jupyter-widgets/base",
            "top": null,
            "grid_column": null,
            "overflow_y": null,
            "overflow_x": null,
            "grid_auto_flow": null,
            "grid_area": null,
            "grid_template_columns": null,
            "flex": null,
            "_model_name": "LayoutModel",
            "justify_items": null,
            "grid_row": null,
            "max_height": null,
            "align_content": null,
            "visibility": null,
            "align_self": null,
            "height": null,
            "min_height": null,
            "padding": null,
            "grid_auto_rows": null,
            "grid_gap": null,
            "max_width": null,
            "order": null,
            "_view_module_version": "1.2.0",
            "grid_template_areas": null,
            "object_position": null,
            "object_fit": null,
            "grid_auto_columns": null,
            "margin": null,
            "display": null,
            "left": null
          }
        },
        "0d28bd661c9f4a98ba04732b5eb108f0": {
          "model_module": "@jupyter-widgets/controls",
          "model_name": "HBoxModel",
          "state": {
            "_view_name": "HBoxView",
            "_dom_classes": [],
            "_model_name": "HBoxModel",
            "_view_module": "@jupyter-widgets/controls",
            "_model_module_version": "1.5.0",
            "_view_count": null,
            "_view_module_version": "1.5.0",
            "box_style": "",
            "layout": "IPY_MODEL_ebae59df6e9a4d14b5063eace2883c53",
            "_model_module": "@jupyter-widgets/controls",
            "children": [
              "IPY_MODEL_02892ab00d0d4677ab00fd3564171b24",
              "IPY_MODEL_c12006dbe1dd4dfba62cf06247c72a1c"
            ]
          }
        },
        "ebae59df6e9a4d14b5063eace2883c53": {
          "model_module": "@jupyter-widgets/base",
          "model_name": "LayoutModel",
          "state": {
            "_view_name": "LayoutView",
            "grid_template_rows": null,
            "right": null,
            "justify_content": null,
            "_view_module": "@jupyter-widgets/base",
            "overflow": null,
            "_model_module_version": "1.2.0",
            "_view_count": null,
            "flex_flow": null,
            "width": null,
            "min_width": null,
            "border": null,
            "align_items": null,
            "bottom": null,
            "_model_module": "@jupyter-widgets/base",
            "top": null,
            "grid_column": null,
            "overflow_y": null,
            "overflow_x": null,
            "grid_auto_flow": null,
            "grid_area": null,
            "grid_template_columns": null,
            "flex": null,
            "_model_name": "LayoutModel",
            "justify_items": null,
            "grid_row": null,
            "max_height": null,
            "align_content": null,
            "visibility": null,
            "align_self": null,
            "height": null,
            "min_height": null,
            "padding": null,
            "grid_auto_rows": null,
            "grid_gap": null,
            "max_width": null,
            "order": null,
            "_view_module_version": "1.2.0",
            "grid_template_areas": null,
            "object_position": null,
            "object_fit": null,
            "grid_auto_columns": null,
            "margin": null,
            "display": null,
            "left": null
          }
        },
        "02892ab00d0d4677ab00fd3564171b24": {
          "model_module": "@jupyter-widgets/controls",
          "model_name": "FloatProgressModel",
          "state": {
            "_view_name": "ProgressView",
            "style": "IPY_MODEL_fea80b1afdeb442aa3a60ec954bc6258",
            "_dom_classes": [],
            "description": "100%",
            "_model_name": "FloatProgressModel",
            "bar_style": "success",
            "max": 4973,
            "_view_module": "@jupyter-widgets/controls",
            "_model_module_version": "1.5.0",
            "value": 4973,
            "_view_count": null,
            "_view_module_version": "1.5.0",
            "orientation": "horizontal",
            "min": 0,
            "description_tooltip": null,
            "_model_module": "@jupyter-widgets/controls",
            "layout": "IPY_MODEL_fe6db7e2274c403b90019234486d3def"
          }
        },
        "c12006dbe1dd4dfba62cf06247c72a1c": {
          "model_module": "@jupyter-widgets/controls",
          "model_name": "HTMLModel",
          "state": {
            "_view_name": "HTMLView",
            "style": "IPY_MODEL_205202f1b4bf4e4892983ffd462c7bbe",
            "_dom_classes": [],
            "description": "",
            "_model_name": "HTMLModel",
            "placeholder": "​",
            "_view_module": "@jupyter-widgets/controls",
            "_model_module_version": "1.5.0",
            "value": " 4973/4973 [00:42&lt;00:00, 118.09it/s]",
            "_view_count": null,
            "_view_module_version": "1.5.0",
            "description_tooltip": null,
            "_model_module": "@jupyter-widgets/controls",
            "layout": "IPY_MODEL_4b4dcaa607df4b8cbc41f1cc8d639861"
          }
        },
        "fea80b1afdeb442aa3a60ec954bc6258": {
          "model_module": "@jupyter-widgets/controls",
          "model_name": "ProgressStyleModel",
          "state": {
            "_view_name": "StyleView",
            "_model_name": "ProgressStyleModel",
            "description_width": "initial",
            "_view_module": "@jupyter-widgets/base",
            "_model_module_version": "1.5.0",
            "_view_count": null,
            "_view_module_version": "1.2.0",
            "bar_color": null,
            "_model_module": "@jupyter-widgets/controls"
          }
        },
        "fe6db7e2274c403b90019234486d3def": {
          "model_module": "@jupyter-widgets/base",
          "model_name": "LayoutModel",
          "state": {
            "_view_name": "LayoutView",
            "grid_template_rows": null,
            "right": null,
            "justify_content": null,
            "_view_module": "@jupyter-widgets/base",
            "overflow": null,
            "_model_module_version": "1.2.0",
            "_view_count": null,
            "flex_flow": null,
            "width": null,
            "min_width": null,
            "border": null,
            "align_items": null,
            "bottom": null,
            "_model_module": "@jupyter-widgets/base",
            "top": null,
            "grid_column": null,
            "overflow_y": null,
            "overflow_x": null,
            "grid_auto_flow": null,
            "grid_area": null,
            "grid_template_columns": null,
            "flex": null,
            "_model_name": "LayoutModel",
            "justify_items": null,
            "grid_row": null,
            "max_height": null,
            "align_content": null,
            "visibility": null,
            "align_self": null,
            "height": null,
            "min_height": null,
            "padding": null,
            "grid_auto_rows": null,
            "grid_gap": null,
            "max_width": null,
            "order": null,
            "_view_module_version": "1.2.0",
            "grid_template_areas": null,
            "object_position": null,
            "object_fit": null,
            "grid_auto_columns": null,
            "margin": null,
            "display": null,
            "left": null
          }
        },
        "205202f1b4bf4e4892983ffd462c7bbe": {
          "model_module": "@jupyter-widgets/controls",
          "model_name": "DescriptionStyleModel",
          "state": {
            "_view_name": "StyleView",
            "_model_name": "DescriptionStyleModel",
            "description_width": "",
            "_view_module": "@jupyter-widgets/base",
            "_model_module_version": "1.5.0",
            "_view_count": null,
            "_view_module_version": "1.2.0",
            "_model_module": "@jupyter-widgets/controls"
          }
        },
        "4b4dcaa607df4b8cbc41f1cc8d639861": {
          "model_module": "@jupyter-widgets/base",
          "model_name": "LayoutModel",
          "state": {
            "_view_name": "LayoutView",
            "grid_template_rows": null,
            "right": null,
            "justify_content": null,
            "_view_module": "@jupyter-widgets/base",
            "overflow": null,
            "_model_module_version": "1.2.0",
            "_view_count": null,
            "flex_flow": null,
            "width": null,
            "min_width": null,
            "border": null,
            "align_items": null,
            "bottom": null,
            "_model_module": "@jupyter-widgets/base",
            "top": null,
            "grid_column": null,
            "overflow_y": null,
            "overflow_x": null,
            "grid_auto_flow": null,
            "grid_area": null,
            "grid_template_columns": null,
            "flex": null,
            "_model_name": "LayoutModel",
            "justify_items": null,
            "grid_row": null,
            "max_height": null,
            "align_content": null,
            "visibility": null,
            "align_self": null,
            "height": null,
            "min_height": null,
            "padding": null,
            "grid_auto_rows": null,
            "grid_gap": null,
            "max_width": null,
            "order": null,
            "_view_module_version": "1.2.0",
            "grid_template_areas": null,
            "object_position": null,
            "object_fit": null,
            "grid_auto_columns": null,
            "margin": null,
            "display": null,
            "left": null
          }
        }
      }
    }
  },
  "cells": [
    {
      "cell_type": "code",
      "metadata": {
        "id": "Led_WIIEiSk2"
      },
      "source": [
        "import pandas as pd\n",
        "import numpy as np\n",
        "\n",
        "from pathlib import Path\n",
        "import os\n",
        "from tqdm.notebook import tqdm\n",
        "\n",
        "import torch\n",
        "import torch.optim as optim\n",
        "from torch.utils.data import Dataset\n",
        "import torch.nn as nn\n",
        "from torch.nn import functional\n",
        "\n",
        "from dpipe.io import load_numpy\n",
        "\n",
        "import warnings\n",
        "warnings.filterwarnings(\"ignore\")\n",
        "\n",
        "import zipfile\n",
        "\n",
        "from torchvision import transforms\n",
        "import numpy as np\n",
        "from skimage.transform import rotate"
      ],
      "execution_count": null,
      "outputs": []
    },
    {
      "cell_type": "code",
      "metadata": {
        "id": "V5BOauur723R",
        "colab": {
          "base_uri": "https://localhost:8080/"
        },
        "outputId": "23228964-2710-420d-9260-25a8d648a30f"
      },
      "source": [
        "pip install deep-pipe"
      ],
      "execution_count": null,
      "outputs": [
        {
          "output_type": "stream",
          "text": [
            "Collecting deep-pipe\n",
            "\u001b[?25l  Downloading https://files.pythonhosted.org/packages/aa/36/8be94e5a93473683249b59b6dd3f195174556487797b8d2a6c61173cfb6a/deep_pipe-0.0.10.tar.gz (65kB)\n",
            "\r\u001b[K     |█████                           | 10kB 21.3MB/s eta 0:00:01\r\u001b[K     |██████████                      | 20kB 17.0MB/s eta 0:00:01\r\u001b[K     |███████████████                 | 30kB 14.6MB/s eta 0:00:01\r\u001b[K     |████████████████████▏           | 40kB 13.4MB/s eta 0:00:01\r\u001b[K     |█████████████████████████▏      | 51kB 9.0MB/s eta 0:00:01\r\u001b[K     |██████████████████████████████▏ | 61kB 9.8MB/s eta 0:00:01\r\u001b[K     |████████████████████████████████| 71kB 5.9MB/s \n",
            "\u001b[?25hRequirement already satisfied: scikit-image in /usr/local/lib/python3.7/dist-packages (from deep-pipe) (0.16.2)\n",
            "Requirement already satisfied: imageio in /usr/local/lib/python3.7/dist-packages (from deep-pipe) (2.4.1)\n",
            "Requirement already satisfied: numpy in /usr/local/lib/python3.7/dist-packages (from deep-pipe) (1.19.5)\n",
            "Requirement already satisfied: scipy in /usr/local/lib/python3.7/dist-packages (from deep-pipe) (1.4.1)\n",
            "Requirement already satisfied: pandas in /usr/local/lib/python3.7/dist-packages (from deep-pipe) (1.1.5)\n",
            "Requirement already satisfied: scikit-learn>=0.19 in /usr/local/lib/python3.7/dist-packages (from deep-pipe) (0.22.2.post1)\n",
            "Requirement already satisfied: tqdm in /usr/local/lib/python3.7/dist-packages (from deep-pipe) (4.41.1)\n",
            "Collecting pdp==0.3.*\n",
            "  Downloading https://files.pythonhosted.org/packages/e4/f9/5e4886980fd2a86013055142f9f3c9f94d3205495a0603a55d5eae32ac9d/pdp-0.3.0.tar.gz\n",
            "Collecting tensorboard-easy\n",
            "  Downloading https://files.pythonhosted.org/packages/b7/f6/e0348a81a3c4756204cc0ff65de0b0381a5fa653bcb74bbd81741f2dc41d/tensorboard-easy-0.2.3.tar.gz\n",
            "Collecting resource-manager>=0.11.3<1.0\n",
            "  Downloading https://files.pythonhosted.org/packages/44/e9/3e1b39a6a9320695ea9bb0e752fbe7de0a0a14232f7483e96706ec15eb70/resource-manager-0.11.4.tar.gz\n",
            "Collecting loky~=2.8.0\n",
            "\u001b[?25l  Downloading https://files.pythonhosted.org/packages/c2/61/5a6958c714772d0481556e49e42b197b4e4a01a3acad57f6334a5159fd74/loky-2.8.0-py2.py3-none-any.whl (65kB)\n",
            "\u001b[K     |████████████████████████████████| 71kB 8.1MB/s \n",
            "\u001b[?25hRequirement already satisfied: pillow>=4.3.0 in /usr/local/lib/python3.7/dist-packages (from scikit-image->deep-pipe) (7.0.0)\n",
            "Requirement already satisfied: networkx>=2.0 in /usr/local/lib/python3.7/dist-packages (from scikit-image->deep-pipe) (2.5)\n",
            "Requirement already satisfied: matplotlib!=3.0.0,>=2.0.0 in /usr/local/lib/python3.7/dist-packages (from scikit-image->deep-pipe) (3.2.2)\n",
            "Requirement already satisfied: PyWavelets>=0.4.0 in /usr/local/lib/python3.7/dist-packages (from scikit-image->deep-pipe) (1.1.1)\n",
            "Requirement already satisfied: python-dateutil>=2.7.3 in /usr/local/lib/python3.7/dist-packages (from pandas->deep-pipe) (2.8.1)\n",
            "Requirement already satisfied: pytz>=2017.2 in /usr/local/lib/python3.7/dist-packages (from pandas->deep-pipe) (2018.9)\n",
            "Requirement already satisfied: joblib>=0.11 in /usr/local/lib/python3.7/dist-packages (from scikit-learn>=0.19->deep-pipe) (1.0.1)\n",
            "Requirement already satisfied: protobuf>=3.4 in /usr/local/lib/python3.7/dist-packages (from tensorboard-easy->deep-pipe) (3.12.4)\n",
            "Collecting crccheck>=0.6\n",
            "  Downloading https://files.pythonhosted.org/packages/df/4c/6937c142a315edc436e223aa936a57dd846751b3be37f43da0d9037f630b/crccheck-1.0-py3-none-any.whl\n",
            "Requirement already satisfied: cloudpickle in /usr/local/lib/python3.7/dist-packages (from loky~=2.8.0->deep-pipe) (1.3.0)\n",
            "Requirement already satisfied: decorator>=4.3.0 in /usr/local/lib/python3.7/dist-packages (from networkx>=2.0->scikit-image->deep-pipe) (4.4.2)\n",
            "Requirement already satisfied: pyparsing!=2.0.4,!=2.1.2,!=2.1.6,>=2.0.1 in /usr/local/lib/python3.7/dist-packages (from matplotlib!=3.0.0,>=2.0.0->scikit-image->deep-pipe) (2.4.7)\n",
            "Requirement already satisfied: cycler>=0.10 in /usr/local/lib/python3.7/dist-packages (from matplotlib!=3.0.0,>=2.0.0->scikit-image->deep-pipe) (0.10.0)\n",
            "Requirement already satisfied: kiwisolver>=1.0.1 in /usr/local/lib/python3.7/dist-packages (from matplotlib!=3.0.0,>=2.0.0->scikit-image->deep-pipe) (1.3.1)\n",
            "Requirement already satisfied: six>=1.5 in /usr/local/lib/python3.7/dist-packages (from python-dateutil>=2.7.3->pandas->deep-pipe) (1.15.0)\n",
            "Requirement already satisfied: setuptools in /usr/local/lib/python3.7/dist-packages (from protobuf>=3.4->tensorboard-easy->deep-pipe) (54.0.0)\n",
            "Building wheels for collected packages: deep-pipe, pdp, tensorboard-easy, resource-manager\n",
            "  Building wheel for deep-pipe (setup.py) ... \u001b[?25l\u001b[?25hdone\n",
            "  Created wheel for deep-pipe: filename=deep_pipe-0.0.10-cp37-none-any.whl size=95451 sha256=977782c6a0639c4d44af789ce28e23bdc325fe87c50fac58802cb09c9f2aba13\n",
            "  Stored in directory: /root/.cache/pip/wheels/62/b9/87/9bf19b9fd140b8b34e1a7a847acafe5c45c98228f80e825513\n",
            "  Building wheel for pdp (setup.py) ... \u001b[?25l\u001b[?25hdone\n",
            "  Created wheel for pdp: filename=pdp-0.3.0-cp37-none-any.whl size=6603 sha256=e5d43efcdc6e363ad2bcab8a07db8e6568605291dba17339f0a34cbe9f82ea33\n",
            "  Stored in directory: /root/.cache/pip/wheels/84/fb/5e/afb783110614b3c1a4187e6f83e4f4ea0088fbdb82921013a2\n",
            "  Building wheel for tensorboard-easy (setup.py) ... \u001b[?25l\u001b[?25hdone\n",
            "  Created wheel for tensorboard-easy: filename=tensorboard_easy-0.2.3-cp37-none-any.whl size=16270 sha256=91d8035bd87ea0139a4f22601b6cb621ba31c8aa8ad861b38b249a6397e0a92a\n",
            "  Stored in directory: /root/.cache/pip/wheels/b4/ed/f8/8d162ed84536607319e7180c751ccdd7f433078f8122fa0d93\n",
            "  Building wheel for resource-manager (setup.py) ... \u001b[?25l\u001b[?25hdone\n",
            "  Created wheel for resource-manager: filename=resource_manager-0.11.4-cp37-none-any.whl size=19671 sha256=68e894f0b74a5d84f703442f6bd1e2fab64de4ba9f60a2f03b13b1cc796ce7f6\n",
            "  Stored in directory: /root/.cache/pip/wheels/d0/85/9d/7fff4ed2acd0d51062461e49f45f64e126bc6553cbf9bcf37d\n",
            "Successfully built deep-pipe pdp tensorboard-easy resource-manager\n",
            "Installing collected packages: pdp, crccheck, tensorboard-easy, resource-manager, loky, deep-pipe\n",
            "Successfully installed crccheck-1.0 deep-pipe-0.0.10 loky-2.8.0 pdp-0.3.0 resource-manager-0.11.4 tensorboard-easy-0.2.3\n"
          ],
          "name": "stdout"
        }
      ]
    },
    {
      "cell_type": "code",
      "metadata": {
        "colab": {
          "base_uri": "https://localhost:8080/"
        },
        "id": "Olk3CPUVifej",
        "outputId": "9baa3adf-b5ee-47e9-e57b-03589b28ea23"
      },
      "source": [
        "from google.colab import drive\n",
        "drive.mount('/content/gdrive')"
      ],
      "execution_count": null,
      "outputs": [
        {
          "output_type": "stream",
          "text": [
            "Mounted at /content/gdrive\n"
          ],
          "name": "stdout"
        }
      ]
    },
    {
      "cell_type": "code",
      "metadata": {
        "id": "gs8j2ckXOzrd"
      },
      "source": [
        "brats = zipfile.ZipFile('/content/gdrive/MyDrive/brats_slices_2.zip', 'r')\n",
        "brats.extractall('/content')"
      ],
      "execution_count": null,
      "outputs": []
    },
    {
      "cell_type": "code",
      "metadata": {
        "id": "nwEycnMc0cZK"
      },
      "source": [
        "data_folder = Path('/content/brats_slices_2')\n",
        "# df = []\n",
        "\n",
        "# for path, _, files in tqdm(os.walk(data_folder)):\n",
        "#     for file in files:\n",
        "        \n",
        "#         subject_id = path.split('/')[-1].split('_')[-1]\n",
        "#         slice_id = file.split('.')[0].split('_')[0]\n",
        "#         sample_id = f\"{subject_id}_{slice_id}\" # SubjectID_SliceIndex\n",
        "#         is_mask = 'mask' in file\n",
        "#         if is_mask:\n",
        "#             mask = np.load(Path(path) / file, allow_pickle=True)\n",
        "#             is_nonzero_mask =  np.any(mask)\n",
        "#         else:\n",
        "#             is_nonzero_mask = np.nan\n",
        "        \n",
        "#         df.append([Path(Path(path).stem) / file, sample_id, is_mask, subject_id, is_nonzero_mask])\n",
        "        \n",
        "# df = pd.DataFrame(df, columns = ['relative_path', 'sample_id', 'is_mask', 'subject_id', 'is_nonzero_mask'])\n",
        "# print(df.is_nonzero_mask.value_counts())\n",
        "\n",
        "# df.to_csv(data_folder / 'meta.csv')"
      ],
      "execution_count": null,
      "outputs": []
    },
    {
      "cell_type": "code",
      "metadata": {
        "id": "qWMRVJyZ1xzH"
      },
      "source": [
        "class BraTSDataset(Dataset):\n",
        "    def __init__(self, meta: pd.DataFrame, source_folder: [str, Path], nonzero_mask=False, transform=None):\n",
        "        if isinstance(source_folder, str):\n",
        "            source_folder = Path(source_folder)\n",
        "            \n",
        "        if nonzero_mask:\n",
        "            meta = meta[meta.sample_id.isin(meta.query('is_nonzero_mask == True').sample_id)]\n",
        "            \n",
        "        self.source_folder = source_folder\n",
        "        self.meta_images = meta.query('is_mask == False').sort_values(by='sample_id').reset_index(drop=True)\n",
        "        self.meta_masks = meta.query('is_mask == True').sort_values(by='sample_id').reset_index(drop=True)\n",
        "        self.transform = transform\n",
        "\n",
        "    def __len__(self):\n",
        "        return self.meta_images.shape[0]\n",
        "\n",
        "    def __getitem__(self, i):\n",
        "        image = load_numpy(self.source_folder / self.meta_images.iloc[i]['relative_path'], allow_pickle=True)\n",
        "        mask = load_numpy(self.source_folder / self.meta_masks.iloc[i]['relative_path'], allow_pickle=True)\n",
        "        sample = image, mask\n",
        "        \n",
        "        if self.transform:\n",
        "            image, mask = self.transform(sample)\n",
        "\n",
        "        return torch.from_numpy(image).reshape(1, 240, 240), torch.from_numpy(mask).reshape(1, 240, 240).double()"
      ],
      "execution_count": null,
      "outputs": []
    },
    {
      "cell_type": "code",
      "metadata": {
        "id": "Lgb01CBS2Dl5"
      },
      "source": [
        "def train_step(images, labels, architecture, criterion, optimizer):\n",
        "    device = (\"cuda\" if torch.cuda.is_available() else 'cpu')\n",
        "    images, labels = images.to(device), labels.to(device)\n",
        "    architecture.train() # enforce training regime\n",
        "\n",
        "    pred_logits = architecture(images)\n",
        "    loss = criterion(pred_logits, labels)\n",
        "\n",
        "    optimizer.zero_grad()\n",
        "    loss.backward()\n",
        "    optimizer.step()\n",
        "    \n",
        "    return loss.data.cpu().numpy()"
      ],
      "execution_count": null,
      "outputs": []
    },
    {
      "cell_type": "code",
      "metadata": {
        "id": "LPoPElCb3JsZ"
      },
      "source": [
        "def conv_3x3(in_c, out_c):\n",
        "    return nn.Sequential(\n",
        "                nn.Conv2d(in_c, out_c, kernel_size=3, padding=1),\n",
        "                nn.ReLU(inplace=True),\n",
        "                nn.Conv2d(out_c, out_c, kernel_size=3, padding=1),\n",
        "                nn.ReLU(inplace=True)\n",
        "    )\n",
        "\n",
        "def conv(in_c, out_c):\n",
        "    return nn.Conv2d(in_c, out_c, kernel_size=3, padding=1)\n",
        "\n",
        "class Unet(nn.Module):\n",
        "    \"\"\"\n",
        "   16       (+)       16->8->1\n",
        "    32      (+)      32\n",
        "      64    (+)    64\n",
        "       128  (+)  128\n",
        "        256 (+) 256\n",
        "          256->256\n",
        "    \"\"\"\n",
        "    \n",
        "    def __init__(self, ):\n",
        "        super().__init__()\n",
        "        \n",
        "        self.max_pool2x2 = nn.MaxPool2d(kernel_size=2, stride=2)\n",
        "        \n",
        "        self.down_conv_1 = conv_3x3(1, 16)\n",
        "        self.down_conv_2 = conv_3x3(16, 32)\n",
        "        self.down_conv_3 = conv_3x3(32, 64)\n",
        "        self.down_conv_4 = conv_3x3(64, 128)\n",
        "        self.down_conv_5 = conv_3x3(128, 256)\n",
        "        self.bottleneck_conv = conv_3x3(256, 256)\n",
        "        \n",
        "        self.upsample_1 = conv(256, 256)\n",
        "        self.up_conv_1 = conv_3x3(256, 128)\n",
        "        self.upsample_2 = conv(128, 128)\n",
        "        self.up_conv_2 = conv_3x3(128, 64)\n",
        "        self.upsample_3 = conv(64, 64)\n",
        "        self.up_conv_3 = conv_3x3(64, 32)\n",
        "        self.upsample_4 = conv(32, 32)\n",
        "        self.up_conv_4 = conv_3x3(32, 16)\n",
        "        self.upsample_5 = conv(16, 16)\n",
        "        self.up_conv_5 = conv_3x3(16, 8)\n",
        "        \n",
        "        self.segm = nn.Sequential(\n",
        "            nn.Conv2d(8, 8, kernel_size=3, padding=1),\n",
        "            nn.Conv2d(8, 1, kernel_size=1)\n",
        "        )\n",
        "        \n",
        "        \n",
        "    def forward(self, x):\n",
        "        \n",
        "        # down/contracting\n",
        "        x1 = self.down_conv_1(x)\n",
        "        x2 = self.max_pool2x2(x1)\n",
        "        \n",
        "        x3 = self.down_conv_2(x2)\n",
        "        x4 = self.max_pool2x2(x3)\n",
        "        \n",
        "        x5 = self.down_conv_3(x4)\n",
        "        x6 = self.max_pool2x2(x5)\n",
        "        \n",
        "        x7 = self.down_conv_4(x6)\n",
        "        x8 = self.max_pool2x2(x7)\n",
        "        \n",
        "        x9 = self.down_conv_5(x8)\n",
        "        x10 = self.max_pool2x2(x9)\n",
        "        \n",
        "        x = self.bottleneck_conv(x10)\n",
        "        \n",
        "        # up/expansive\n",
        "        x = self.upsample_1(functional.interpolate(x, x9.shape[2:], mode='bilinear', align_corners=False))\n",
        "        x = self.up_conv_1(x+x9)\n",
        "        \n",
        "        x = self.upsample_2(functional.interpolate(x, x7.shape[2:], mode='bilinear', align_corners=False))\n",
        "        x = self.up_conv_2(x+x7)\n",
        "        \n",
        "        x = self.upsample_3(functional.interpolate(x, x5.shape[2:], mode='bilinear', align_corners=False))\n",
        "        x = self.up_conv_3(x+x5)\n",
        "        \n",
        "        x = self.upsample_4(functional.interpolate(x, x3.shape[2:], mode='bilinear', align_corners=False))\n",
        "        x = self.up_conv_4(x+x3)\n",
        "        \n",
        "        x = self.upsample_5(functional.interpolate(x, x1.shape[2:], mode='bilinear', align_corners=False))\n",
        "        x = self.up_conv_5(x+x1)\n",
        "\n",
        "        # segm\n",
        "        x = self.segm(x)\n",
        "        \n",
        "        return x"
      ],
      "execution_count": null,
      "outputs": []
    },
    {
      "cell_type": "code",
      "metadata": {
        "id": "wNUbIdbTNVdN"
      },
      "source": [
        "df = pd.read_csv('/content/gdrive/MyDrive/meta.csv', index_col=0)\n",
        "\n",
        "df = df.sort_values(by=['subject_id'], ignore_index=True)\n",
        "\n",
        "train_size = int(0.8 * df.shape[0])\n",
        "val_size = df.shape[0] - train_size\n",
        "\n",
        "border_id = df['subject_id'][train_size]\n",
        "\n",
        "train_df = df[df['subject_id'] < border_id]\n",
        "val_df = df[df['subject_id'] >= border_id]"
      ],
      "execution_count": null,
      "outputs": []
    },
    {
      "cell_type": "code",
      "metadata": {
        "id": "C_chnC6rNbYg"
      },
      "source": [
        "def random_crop(sample):\n",
        "    \n",
        "    image, mask = sample\n",
        "    delta_h, delta_w = 20, 20\n",
        "    h, w = image.shape\n",
        "    new_h, new_w = 120, 120\n",
        "    top = np.random.randint(0, h - delta_h - new_h)\n",
        "    left = np.random.randint(0, w - delta_w - new_w)\n",
        "\n",
        "    image = image[top: top + new_h,\n",
        "                  left: left + new_w]\n",
        "    \n",
        "    mask = mask[top: top + new_h,\n",
        "                  left: left + new_w]\n",
        "    \n",
        "    return image, mask\n",
        "\n",
        "def random_rotate(sample):\n",
        "    \n",
        "    image, mask = sample\n",
        "    angles = [0, 90, 180, 270]\n",
        "    np.random.shuffle(angles)\n",
        "    angle = angles[0]    \n",
        "    return rotate(image, angle), rotate(mask, angle)\n",
        "    \n",
        "def to_tensor(sample):\n",
        "    image, mask = sample\n",
        "    image = image.reshape(1, image.shape[0], image.shape[1])\n",
        "    return torch.from_numpy(image), np.sum(mask, axis=(0,1)).astype(bool)"
      ],
      "execution_count": null,
      "outputs": []
    },
    {
      "cell_type": "code",
      "metadata": {
        "id": "52hBKlv3NiJf"
      },
      "source": [
        "train_transform = transforms.Compose([\n",
        "                    random_crop,\n",
        "                    random_rotate,\n",
        "                    to_tensor\n",
        "            ])\n",
        "val_transform = to_tensor\n",
        "\n",
        "train_dataset = BraTSDataset(train_df, data_folder, nonzero_mask=True)\n",
        "val_dataset = BraTSDataset(val_df, data_folder, nonzero_mask=True)\n",
        "\n",
        "\n",
        "# train_dataset = BraTSDataset(train_df, data_folder, nonzero_mask=True, transform=train_transform)\n",
        "# val_dataset = BraTSDataset(val_df, data_folder, nonzero_mask=True, transform=val_transform)\n",
        "\n",
        "train_loader = torch.utils.data.DataLoader(train_dataset,\n",
        "                                             batch_size=128, shuffle=True,\n",
        "                                             num_workers=2)\n",
        "val_loader = torch.utils.data.DataLoader(val_dataset,\n",
        "                                             batch_size=128, shuffle=False,\n",
        "                                             num_workers=2)"
      ],
      "execution_count": null,
      "outputs": []
    },
    {
      "cell_type": "code",
      "metadata": {
        "colab": {
          "base_uri": "https://localhost:8080/",
          "height": 362,
          "referenced_widgets": [
            "6fb116329eff4dd3bc63c17a34e4ff71",
            "7dd2974355b548758d6f2d80c0f698c6",
            "07fd737c06c34f4ba2d668c76cf6b314",
            "8951b2d1c4e34e588b206ac0eb378f77",
            "48810f6523ac4961bc281824a952e47e",
            "2fb896aea30947ebb862e5c4c96ae60b",
            "74870e4fc9354b6f920a8d95055b9a1c",
            "b0a4f72ee7094995ba5173dc3532b2cd",
            "e797cd6c750b4d64bfc81b1de59a8a52",
            "862353cb507f4fedaa605abda456aa1c",
            "f5c2dc2ad7d349189fd4ba20fffe4b03",
            "a8454291b47045649fdd0129a8f01fff",
            "5bd25706415b463c9a268f8f8e8fe407",
            "17fa9b4d61a44e36bb101d02d9ab546f",
            "7a1d5d687cb140649b96171401992b30",
            "10be4bafa5454278bebcd13b1cabe23e",
            "622a7b6a33ce452398aead79273fafe8",
            "74cfd6b252e6427bbf9d66ab7ad9cf4d",
            "6f2395db21b44a73977a92f401eccd44",
            "dd7abb1f22ed46f7a754add7fa67b253",
            "910ff03ffe0c403d90152d45192358dc",
            "079aaef40b744b0683ddc7a6f06c3a55",
            "e43630552c994244bd8ed90eca98e02a",
            "33bd2424acbf4d5cb96b47fd8f0e6bdd",
            "300dac9bf679401db293ef7269dca4d6",
            "1eef3f4b70794c67a93136f132c6801f",
            "75c83f59878b4d28a3018d0d199041c6",
            "b01f09d2bfeb47808701a0ae0d0245c7",
            "f77cdd3f25664f989d054c328ada57a2",
            "f192d28272ef494ea52f9b84b38959e1",
            "239a024be1f94d30ba9008f45a658d89",
            "dce3e84faaed45d9a900b5acd5a5a7bf",
            "d7d5303eb0f54038bac55f7b594d6a38",
            "236936f07eb7409c92a68b1df54b9126",
            "96dff634a6f14d378c9ad1d25256495d",
            "26c9080d58fc46b6ba037ba58b235d10",
            "8192b452bc904398afba6eb976d026a8",
            "adcc57a836f14d98a5c3cbb53ab4ffb1",
            "a099885e694b43dd9e2f910170e43e01",
            "2cf686a95f8e4710b030d26506493b6a"
          ]
        },
        "id": "pbK2VmmX3Yyq",
        "outputId": "3b70e64f-5705-42f5-a726-e3b8fefb0717"
      },
      "source": [
        "device = (\"cuda\" if torch.cuda.is_available() else 'cpu')\n",
        "model = Unet().to(device)\n",
        "\n",
        "criterion = nn.BCEWithLogitsLoss() \n",
        "optimizer = optim.Adam(model.parameters(), lr=0.001)\n",
        "\n",
        "for epoch in range(5):\n",
        "    epoch_loss = 0\n",
        "    for X_batch, y_batch in tqdm(train_loader):\n",
        "\n",
        "        loss = train_step(X_batch, y_batch, model, criterion, optimizer)\n",
        "        \n",
        "        epoch_loss += loss     \n",
        "\n",
        "    print(f'Epoch {epoch+0:03}: | Loss: {epoch_loss/len(train_loader):.5f}')"
      ],
      "execution_count": null,
      "outputs": [
        {
          "output_type": "display_data",
          "data": {
            "application/vnd.jupyter.widget-view+json": {
              "model_id": "6fb116329eff4dd3bc63c17a34e4ff71",
              "version_minor": 0,
              "version_major": 2
            },
            "text/plain": [
              "HBox(children=(FloatProgress(value=0.0, max=152.0), HTML(value='')))"
            ]
          },
          "metadata": {
            "tags": []
          }
        },
        {
          "output_type": "stream",
          "text": [
            "\n",
            "Epoch 000: | Loss: 0.26511\n"
          ],
          "name": "stdout"
        },
        {
          "output_type": "display_data",
          "data": {
            "application/vnd.jupyter.widget-view+json": {
              "model_id": "e797cd6c750b4d64bfc81b1de59a8a52",
              "version_minor": 0,
              "version_major": 2
            },
            "text/plain": [
              "HBox(children=(FloatProgress(value=0.0, max=152.0), HTML(value='')))"
            ]
          },
          "metadata": {
            "tags": []
          }
        },
        {
          "output_type": "stream",
          "text": [
            "\n",
            "Epoch 001: | Loss: 0.05085\n"
          ],
          "name": "stdout"
        },
        {
          "output_type": "display_data",
          "data": {
            "application/vnd.jupyter.widget-view+json": {
              "model_id": "622a7b6a33ce452398aead79273fafe8",
              "version_minor": 0,
              "version_major": 2
            },
            "text/plain": [
              "HBox(children=(FloatProgress(value=0.0, max=152.0), HTML(value='')))"
            ]
          },
          "metadata": {
            "tags": []
          }
        },
        {
          "output_type": "stream",
          "text": [
            "\n",
            "Epoch 002: | Loss: 0.03958\n"
          ],
          "name": "stdout"
        },
        {
          "output_type": "display_data",
          "data": {
            "application/vnd.jupyter.widget-view+json": {
              "model_id": "300dac9bf679401db293ef7269dca4d6",
              "version_minor": 0,
              "version_major": 2
            },
            "text/plain": [
              "HBox(children=(FloatProgress(value=0.0, max=152.0), HTML(value='')))"
            ]
          },
          "metadata": {
            "tags": []
          }
        },
        {
          "output_type": "stream",
          "text": [
            "\n",
            "Epoch 003: | Loss: 0.03532\n"
          ],
          "name": "stdout"
        },
        {
          "output_type": "display_data",
          "data": {
            "application/vnd.jupyter.widget-view+json": {
              "model_id": "d7d5303eb0f54038bac55f7b594d6a38",
              "version_minor": 0,
              "version_major": 2
            },
            "text/plain": [
              "HBox(children=(FloatProgress(value=0.0, max=152.0), HTML(value='')))"
            ]
          },
          "metadata": {
            "tags": []
          }
        },
        {
          "output_type": "stream",
          "text": [
            "\n",
            "Epoch 004: | Loss: 0.02683\n"
          ],
          "name": "stdout"
        }
      ]
    },
    {
      "cell_type": "code",
      "metadata": {
        "id": "D7eEwlQvZ58R"
      },
      "source": [
        "torch.save(model.state_dict(), '/content/unet.pth')"
      ],
      "execution_count": null,
      "outputs": []
    },
    {
      "cell_type": "code",
      "metadata": {
        "id": "gdNHYiUe3p04"
      },
      "source": [
        "import matplotlib.pyplot as plt\n",
        "%matplotlib inline\n",
        "\n",
        "import numpy as np"
      ],
      "execution_count": null,
      "outputs": []
    },
    {
      "cell_type": "code",
      "metadata": {
        "colab": {
          "base_uri": "https://localhost:8080/",
          "height": 298
        },
        "id": "Q7lvCb2FaYSA",
        "outputId": "a542de0a-9b25-4171-da80-45eceeac7e19"
      },
      "source": [
        "_ = model.load_state_dict(torch.load('/content/unet.pth'))\n",
        "_ = model.eval()\n",
        "\n",
        "x, y = val_dataset[1000]\n",
        "y_pred = np.exp(model(x.reshape(1,1,240,240).to('cuda'))[0].to('cpu').detach().numpy()) > 0.5\n",
        "\n",
        "fig, ax = plt.subplots(1, 3, figsize=(15, 5))\n",
        "\n",
        "ax[0].imshow(x[0, ...], cmap='gray')\n",
        "ax[0].set_title('Image')\n",
        "ax[1].imshow(y[0, ...], cmap='gray')\n",
        "ax[1].set_title('Ground truth mask')\n",
        "ax[2].imshow(y_pred[0, ...], cmap='gray')\n",
        "ax[2].set_title('Predicted mask');"
      ],
      "execution_count": null,
      "outputs": [
        {
          "output_type": "stream",
          "text": [
            "4973\n"
          ],
          "name": "stdout"
        },
        {
          "output_type": "display_data",
          "data": {
            "image/png": "[encoded data removed]",
            "text/plain": [
              "<Figure size 1080x360 with 3 Axes>"
            ]
          },
          "metadata": {
            "tags": [],
            "needs_background": "light"
          }
        }
      ]
    },
    {
      "cell_type": "code",
      "metadata": {
        "id": "s816KyTDbG9w",
        "colab": {
          "base_uri": "https://localhost:8080/",
          "height": 102,
          "referenced_widgets": [
            "0d28bd661c9f4a98ba04732b5eb108f0",
            "ebae59df6e9a4d14b5063eace2883c53",
            "02892ab00d0d4677ab00fd3564171b24",
            "c12006dbe1dd4dfba62cf06247c72a1c",
            "fea80b1afdeb442aa3a60ec954bc6258",
            "fe6db7e2274c403b90019234486d3def",
            "205202f1b4bf4e4892983ffd462c7bbe",
            "4b4dcaa607df4b8cbc41f1cc8d639861"
          ]
        },
        "outputId": "e6c7de65-5615-4627-a17b-ce14b68575e2"
      },
      "source": [
        "from dpipe.im.metrics import dice_score\n",
        "\n",
        "dice = []\n",
        "for i in tqdm(range(len(val_dataset))):\n",
        "    x, y = val_dataset[i]\n",
        "    y = y.detach().numpy().astype(bool)\n",
        "    y_pred = np.exp(model(x.reshape(1,1,240,240).to('cuda'))[0].to('cpu').detach().numpy()) > 0.1\n",
        "    dice.append(dice_score(y, y_pred))\n",
        "\n",
        "np.mean(dice), np.std(dice)"
      ],
      "execution_count": null,
      "outputs": [
        {
          "output_type": "display_data",
          "data": {
            "application/vnd.jupyter.widget-view+json": {
              "model_id": "0d28bd661c9f4a98ba04732b5eb108f0",
              "version_minor": 0,
              "version_major": 2
            },
            "text/plain": [
              "HBox(children=(FloatProgress(value=0.0, max=4973.0), HTML(value='')))"
            ]
          },
          "metadata": {
            "tags": []
          }
        },
        {
          "output_type": "stream",
          "text": [
            "\n"
          ],
          "name": "stdout"
        },
        {
          "output_type": "execute_result",
          "data": {
            "text/plain": [
              "(0.5340182212711252, 0.26906466389666245)"
            ]
          },
          "metadata": {
            "tags": []
          },
          "execution_count": 34
        }
      ]
    }
  ]
}