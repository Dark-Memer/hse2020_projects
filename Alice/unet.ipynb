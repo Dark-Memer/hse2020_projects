{
 "cells": [
  {
   "cell_type": "code",
   "execution_count": 9,
   "metadata": {},
   "outputs": [],
   "source": [
    "from torch.utils.data import DataLoader, Dataset\n",
    "from tqdm.notebook import tqdm\n",
    "from pathlib import Path\n",
    "import os\n",
    "\n",
    "import numpy as np\n",
    "import pandas as pd\n",
    "from dpipe.io import load_numpy\n",
    "\n",
    "import torch.optim as optim\n",
    "import pandas as pd\n",
    "import torch.nn as nn\n",
    "from torch.nn import functional\n",
    "import torch\n",
    "\n",
    "from data_loader import BraTSDataset\n",
    "from unet import Unet\n",
    "from training_utils import train_step\n",
    "\n",
    "import warnings\n",
    "warnings.filterwarnings(\"ignore\")"
   ]
  },
  {
   "cell_type": "markdown",
   "metadata": {},
   "source": [
    "## Create df"
   ]
  },
  {
   "cell_type": "code",
   "execution_count": 2,
   "metadata": {},
   "outputs": [],
   "source": [
    "data_folder = Path('/Users/alisakugusheva/Desktop/HSE/Project/brats_slices_2/')\n",
    "# df = []\n",
    "\n",
    "# for path, _, files in tqdm(os.walk(data_folder)):\n",
    "#     for file in files:\n",
    "        \n",
    "#         subject_id = path.split('/')[-1].split('_')[-1]\n",
    "#         slice_id = file.split('.')[0].split('_')[0]\n",
    "#         sample_id = f\"{subject_id}_{slice_id}\" # SubjectID_SliceIndex\n",
    "#         is_mask = 'mask' in file\n",
    "#         if is_mask:\n",
    "#             mask = load_numpy(Path(path) / file, allow_pickle=True)\n",
    "#             is_nonzero_mask =  np.any(mask)\n",
    "#         else:\n",
    "#             is_nonzero_mask = np.nan\n",
    "        \n",
    "#         df.append([Path(Path(path).stem) / file, sample_id, is_mask, subject_id, is_nonzero_mask])\n",
    "        \n",
    "# df = pd.DataFrame(df, columns = ['relative_path', 'sample_id', 'is_mask', 'subject_id', 'is_nonzero_mask'])\n",
    "# print(df.is_nonzero_mask.value_counts())\n",
    "\n",
    "# df.to_csv(data_folder / 'meta.csv')"
   ]
  },
  {
   "cell_type": "code",
   "execution_count": 3,
   "metadata": {},
   "outputs": [],
   "source": [
    "df_folder = Path('/Users/alisakugusheva/Desktop/HSE/Project')\n",
    "df = pd.read_csv(df_folder / 'meta.csv', index_col=0)\n",
    "\n",
    "df = df.sort_values(by=['subject_id'], ignore_index=True)\n",
    "\n",
    "train_size = int(0.8 * df.shape[0])\n",
    "val_size = df.shape[0] - train_size\n",
    "\n",
    "border_id = df['subject_id'][train_size]\n",
    "\n",
    "train_df = df[df['subject_id'] < border_id]\n",
    "val_df = df[df['subject_id'] >= border_id]"
   ]
  },
  {
   "cell_type": "markdown",
   "metadata": {},
   "source": [
    "## Dataloader"
   ]
  },
  {
   "cell_type": "code",
   "execution_count": 4,
   "metadata": {},
   "outputs": [],
   "source": [
    "from torchvision import transforms\n",
    "import numpy as np\n",
    "from skimage.transform import rotate"
   ]
  },
  {
   "cell_type": "code",
   "execution_count": 5,
   "metadata": {},
   "outputs": [],
   "source": [
    "def random_crop(sample):\n",
    "    \n",
    "    image, mask = sample\n",
    "    delta_h, delta_w = 20, 20\n",
    "    h, w = image.shape\n",
    "    new_h, new_w = 120, 120\n",
    "    top = np.random.randint(0, h - delta_h - new_h)\n",
    "    left = np.random.randint(0, w - delta_w - new_w)\n",
    "\n",
    "    image = image[top: top + new_h,\n",
    "                  left: left + new_w]\n",
    "    \n",
    "    mask = mask[top: top + new_h,\n",
    "                  left: left + new_w]\n",
    "    \n",
    "    return image, mask\n",
    "\n",
    "def random_rotate(sample):\n",
    "    \n",
    "    image, mask = sample\n",
    "    angles = [0, 90, 180, 270]\n",
    "    np.random.shuffle(angles)\n",
    "    angle = angles[0]    \n",
    "    return rotate(image, angle), rotate(mask, angle)\n",
    "    \n",
    "def to_tensor(sample):\n",
    "    image, mask = sample\n",
    "    image = image.reshape(1, image.shape[0], image.shape[1])\n",
    "    \n",
    "    return torch.from_numpy(image), np.sum(mask, axis=(0,1)).astype(bool)"
   ]
  },
  {
   "cell_type": "code",
   "execution_count": 6,
   "metadata": {},
   "outputs": [],
   "source": [
    "train_transform = transforms.Compose([\n",
    "                    random_crop,\n",
    "                    random_rotate,\n",
    "                    to_tensor\n",
    "            ])\n",
    "val_transform = to_tensor"
   ]
  },
  {
   "cell_type": "code",
   "execution_count": 10,
   "metadata": {},
   "outputs": [],
   "source": [
    " # '/home/anvar/work/data/brats_slices/'\n",
    "# data_folder = Path('/Users/alisakugusheva/Desktop/HSE/Project/brats_slices/')\n",
    "# df = pd.read_csv(data_folder / 'meta.csv', index_col=0)\n",
    "# df['relative_path'] = df['relative_path'] + '.gz'\n",
    "\n",
    "# train_dataset = BraTSDataset(train_df, data_folder, nonzero_mask=True, transform=train_transform)\n",
    "# val_dataset = BraTSDataset(val_df, data_folder, nonzero_mask=True, transform=val_transform)\n",
    "\n",
    "train_dataset = BraTSDataset(train_df, data_folder, nonzero_mask=True)\n",
    "val_dataset = BraTSDataset(val_df, data_folder, nonzero_mask=True)\n",
    "\n",
    "\n",
    "train_loader = torch.utils.data.DataLoader(train_dataset,\n",
    "                                             batch_size=128, shuffle=True,\n",
    "                                             num_workers=2)\n",
    "val_loader = torch.utils.data.DataLoader(val_dataset,\n",
    "                                             batch_size=128, shuffle=False,\n",
    "                                             num_workers=2)"
   ]
  },
  {
   "cell_type": "markdown",
   "metadata": {},
   "source": [
    "## Train model"
   ]
  },
  {
   "cell_type": "code",
   "execution_count": 11,
   "metadata": {},
   "outputs": [],
   "source": [
    "device = (\"cuda\" if torch.cuda.is_available() else 'cpu')\n",
    "model = Unet().to(device)\n",
    "\n",
    "criterion = nn.BCEWithLogitsLoss() \n",
    "optimizer = optim.Adam(model.parameters(), lr=0.001)"
   ]
  },
  {
   "cell_type": "code",
   "execution_count": null,
   "metadata": {
    "scrolled": false
   },
   "outputs": [],
   "source": [
    "for epoch in range(5):\n",
    "    epoch_loss = 0\n",
    "    for X_batch, y_batch in tqdm(train_loader):\n",
    "\n",
    "        loss = train_step(X_batch, y_batch, model, criterion, optimizer)\n",
    "        \n",
    "        epoch_loss += loss     \n",
    "\n",
    "    print(f'Epoch {epoch+0:03}: | Loss: {epoch_loss/len(train_loader):.5f}')"
   ]
  },
  {
   "cell_type": "markdown",
   "metadata": {},
   "source": [
    "## Save model parameters\n",
    "\n",
    "https://pytorch.org/tutorials/beginner/saving_loading_models.html"
   ]
  },
  {
   "cell_type": "code",
   "execution_count": null,
   "metadata": {},
   "outputs": [],
   "source": [
    "# torch.save(model.state_dict(), './unet.pth')"
   ]
  },
  {
   "cell_type": "markdown",
   "metadata": {},
   "source": [
    "## Validate model's quality"
   ]
  },
  {
   "cell_type": "code",
   "execution_count": null,
   "metadata": {},
   "outputs": [],
   "source": [
    "import matplotlib.pyplot as plt\n",
    "%matplotlib inline\n",
    "\n",
    "import numpy as np\n",
    "\n",
    "_ = model.load_state_dict(torch.load('/Users/alisakugusheva/Desktop/HSE/Project/unet.pth'))\n",
    "_ = model.eval()\n",
    "\n",
    "x, y = val_dataset[1000]\n",
    "y_pred = np.exp(model(x.reshape(1,1,240,240).to('cuda'))[0].to('cpu').detach().numpy()) > 0.5\n",
    "\n",
    "fig, ax = plt.subplots(1, 3, figsize=(15, 5))\n",
    "\n",
    "ax[0].imshow(x[0, ...], cmap='gray')\n",
    "ax[0].set_title('Image')\n",
    "ax[1].imshow(y[0, ...], cmap='gray')\n",
    "ax[1].set_title('Ground truth mask')\n",
    "ax[2].imshow(y_pred[0, ...], cmap='gray')\n",
    "ax[2].set_title('Predicted mask');"
   ]
  },
  {
   "cell_type": "markdown",
   "metadata": {},
   "source": [
    "## Slice-wise dice"
   ]
  },
  {
   "cell_type": "code",
   "execution_count": null,
   "metadata": {},
   "outputs": [],
   "source": [
    "from dpipe.im.metrics import dice_score"
   ]
  },
  {
   "cell_type": "code",
   "execution_count": null,
   "metadata": {},
   "outputs": [],
   "source": [
    "dice = []\n",
    "for i in tqdm(range(len(val_dataset))):\n",
    "    x, y = val_dataset[i]\n",
    "    y = y.detach().numpy().astype(bool)\n",
    "    y_pred = np.exp(model(x.reshape(1,1,240,240).to('cuda'))[0].to('cpu').detach().numpy()) > 0.1\n",
    "    dice.append(dice_score(y, y_pred))"
   ]
  },
  {
   "cell_type": "code",
   "execution_count": null,
   "metadata": {},
   "outputs": [],
   "source": [
    "np.mean(dice), np.std(dice)"
   ]
  },
  {
   "cell_type": "markdown",
   "metadata": {},
   "source": [
    "# TODO\n",
    "\n",
    "1. Compute patient-wise DICE score\n",
    "2. Do cross-validation and compute DICE score on test set\n",
    "3. Train larger model longer and achieve atleast 0.5 DICE score on test set"
   ]
  },
  {
   "cell_type": "code",
   "execution_count": null,
   "metadata": {},
   "outputs": [],
   "source": []
  }
 ],
 "metadata": {
  "kernelspec": {
   "display_name": "Python 3",
   "language": "python",
   "name": "python3"
  },
  "language_info": {
   "codemirror_mode": {
    "name": "ipython",
    "version": 3
   },
   "file_extension": ".py",
   "mimetype": "text/x-python",
   "name": "python",
   "nbconvert_exporter": "python",
   "pygments_lexer": "ipython3",
   "version": "3.7.9"
  }
 },
 "nbformat": 4,
 "nbformat_minor": 4
}
